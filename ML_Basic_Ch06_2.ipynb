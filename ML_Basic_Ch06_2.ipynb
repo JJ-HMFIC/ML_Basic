{
  "nbformat": 4,
  "nbformat_minor": 0,
  "metadata": {
    "colab": {
      "provenance": [],
      "authorship_tag": "ABX9TyPadMlGFKj9QWjZauuagwHY",
      "include_colab_link": true
    },
    "kernelspec": {
      "name": "python3",
      "display_name": "Python 3"
    },
    "language_info": {
      "name": "python"
    }
  },
  "cells": [
    {
      "cell_type": "markdown",
      "metadata": {
        "id": "view-in-github",
        "colab_type": "text"
      },
      "source": [
        "<a href=\"https://colab.research.google.com/github/JJ-HMFIC/ML_Basic/blob/main/ML_Basic_Ch06_2.ipynb\" target=\"_parent\"><img src=\"https://colab.research.google.com/assets/colab-badge.svg\" alt=\"Open In Colab\"/></a>"
      ]
    },
    {
      "cell_type": "markdown",
      "source": [
        "06-2"
      ],
      "metadata": {
        "id": "bXmTJwuh-Mfw"
      }
    },
    {
      "cell_type": "code",
      "source": [
        "logits = tf.matmul(X,W)+b # score\n",
        "hypothesis = tf.nn.softmax(logits)"
      ],
      "metadata": {
        "id": "b0GvKSEd-Tp5"
      },
      "execution_count": null,
      "outputs": []
    },
    {
      "cell_type": "code",
      "source": [
        "cost_i = tf.nn.softmax_cross_entropy_with_logits(logits=logits, labels=Y_one_hot )# 위 코드를 하나로 합친 메서드\n",
        "cost = tf.reduce_mean(cost_i)"
      ],
      "metadata": {
        "id": "wTe9062h-bng"
      },
      "execution_count": null,
      "outputs": []
    },
    {
      "cell_type": "code",
      "source": [
        "import numpy as np\n",
        "xy = np.loadtxt('/content/drive/MyDrive/Colab Notebooks/data-04-zoo.csv', delimiter=',', dtype=np.float32)\n",
        "x_data = xy[:, 0:-1]\n",
        "y_data = xy[:, [-1]]\n",
        "nb_classes = 7"
      ],
      "metadata": {
        "id": "6fZFwzfE_AbZ"
      },
      "execution_count": null,
      "outputs": []
    },
    {
      "cell_type": "code",
      "source": [
        "X = tf.placeholder(tf.float32, [None, 16])\n",
        "Y = tf.placeholder(tf.int32, [None,1]) # 0~6 shape = (?,1)\n",
        "Y_one_hot = tf.one_hot(Y,nb_classes) # one hot shape=(?, 1, 7)\n",
        "Y_one_hot = tf.reshape(Y_one_hot, [-1, nb_classes]) # shape = (?,7)\n",
        "# reshape, -1 = everything\n",
        "# 주어진 배열의 요소는 유지되지만 배열의 차원이나 모양이 변경\n",
        "#"
      ],
      "metadata": {
        "id": "g1swmJgf_o8o"
      },
      "execution_count": null,
      "outputs": []
    },
    {
      "cell_type": "code",
      "source": [
        "W = tf.Variable(tf.random_normal([16, nb_classes]), name='weight')\n",
        "b = tf.Variable(tf.random_normal([nb_classes]), name='bias')"
      ],
      "metadata": {
        "id": "pcBcuJUfArlX"
      },
      "execution_count": null,
      "outputs": []
    },
    {
      "cell_type": "code",
      "source": [
        "logits = tf.matmul(X, W) + b\n",
        "hypothesis = tf.nn.softmax(logits)\n",
        "# Cross entropy cost/loss\n",
        "cost_i = tf.nn.softmax_cross_entropy_with_logits(logits=logits,\n",
        "                                                labels=Y_one_hot)\n",
        "cost = tf.reduce_mean(cost_i)\n",
        "optimizer = tf.train.GradientDescentOptimizer(learning_rate=0.1).minimize(cost)"
      ],
      "metadata": {
        "id": "SKcbFaf9_0GT"
      },
      "execution_count": null,
      "outputs": []
    },
    {
      "cell_type": "code",
      "source": [
        "prediction = tf.argmax(hypothesis, 1)\n",
        "# probablity => 0~6으로 다시 돌림\n",
        "# argmax 파라미터 두개: 2차원 행렬에서 각 행(axis=1)\n",
        "# 또는 각 열(axis=0)에서 최댓값의 인덱스를 찾을 때 사용\n",
        "#  hypothesis 텐서에서 각 행에서 최댓값의 인덱스를 반환\n",
        "\n",
        "corr = tf.equal(prediction, tf.argmax(Y_one_hot, 1)) # label과 비교(=Y값)\n",
        "\n",
        "accuracy = tf.reduce_mean(tf.cast(corr, tf.float32)) #정확도 비교\n",
        "#  cast = corr를 float32 타입으로 반환\n",
        "\n",
        "with tf.Session() as sess:\n",
        "   sess.run(tf.global_variables_initializer())\n",
        "   for step in range(2000):\n",
        "    sess.run(optimizer, feed_dict={X: x_data, Y:y_data})\n",
        "    if step % 100 ==0:\n",
        "      loss, acc = sess.run([cost, accuracy], feed_dict={X: x_data, Y:y_data})\n",
        "      print(\"Step: {:5}\\tLoss: {:.3f}\\tAcc: {:.2%}\".format(step, loss, acc))\n",
        "\n",
        "# Let's see if we can predict\n",
        "   pred = sess.run(prediction, feed_dict={X: x_data})\n",
        "# y_data: (N,1) = flatten => (N, ) matches pred.shape\n",
        "   for p, y in zip(pred, y_data.flatten()):\n",
        "    print(\"[{}] Prediction: {} True Y: {}\".format(p == int(y), p, int(y)))"
      ],
      "metadata": {
        "colab": {
          "base_uri": "https://localhost:8080/"
        },
        "id": "TGo8cds0FDRY",
        "outputId": "6b867685-54eb-48d1-ff8f-ef2ab780e8a9"
      },
      "execution_count": null,
      "outputs": [
        {
          "output_type": "stream",
          "name": "stdout",
          "text": [
            "Step:     0\tLoss: 3.962\tAcc: 8.91%\n",
            "Step:   100\tLoss: 0.790\tAcc: 84.16%\n",
            "Step:   200\tLoss: 0.561\tAcc: 87.13%\n",
            "Step:   300\tLoss: 0.442\tAcc: 91.09%\n",
            "Step:   400\tLoss: 0.360\tAcc: 91.09%\n",
            "Step:   500\tLoss: 0.297\tAcc: 93.07%\n",
            "Step:   600\tLoss: 0.247\tAcc: 93.07%\n",
            "Step:   700\tLoss: 0.207\tAcc: 94.06%\n",
            "Step:   800\tLoss: 0.176\tAcc: 96.04%\n",
            "Step:   900\tLoss: 0.152\tAcc: 96.04%\n",
            "Step:  1000\tLoss: 0.134\tAcc: 96.04%\n",
            "Step:  1100\tLoss: 0.119\tAcc: 99.01%\n",
            "Step:  1200\tLoss: 0.107\tAcc: 99.01%\n",
            "Step:  1300\tLoss: 0.097\tAcc: 99.01%\n",
            "Step:  1400\tLoss: 0.089\tAcc: 99.01%\n",
            "Step:  1500\tLoss: 0.083\tAcc: 100.00%\n",
            "Step:  1600\tLoss: 0.077\tAcc: 100.00%\n",
            "Step:  1700\tLoss: 0.072\tAcc: 100.00%\n",
            "Step:  1800\tLoss: 0.068\tAcc: 100.00%\n",
            "Step:  1900\tLoss: 0.064\tAcc: 100.00%\n",
            "[True] Prediction: 0 True Y: 0\n",
            "[True] Prediction: 0 True Y: 0\n",
            "[True] Prediction: 3 True Y: 3\n",
            "[True] Prediction: 0 True Y: 0\n",
            "[True] Prediction: 0 True Y: 0\n",
            "[True] Prediction: 0 True Y: 0\n",
            "[True] Prediction: 0 True Y: 0\n",
            "[True] Prediction: 3 True Y: 3\n",
            "[True] Prediction: 3 True Y: 3\n",
            "[True] Prediction: 0 True Y: 0\n",
            "[True] Prediction: 0 True Y: 0\n",
            "[True] Prediction: 1 True Y: 1\n",
            "[True] Prediction: 3 True Y: 3\n",
            "[True] Prediction: 6 True Y: 6\n",
            "[True] Prediction: 6 True Y: 6\n",
            "[True] Prediction: 6 True Y: 6\n",
            "[True] Prediction: 1 True Y: 1\n",
            "[True] Prediction: 0 True Y: 0\n",
            "[True] Prediction: 3 True Y: 3\n",
            "[True] Prediction: 0 True Y: 0\n",
            "[True] Prediction: 1 True Y: 1\n",
            "[True] Prediction: 1 True Y: 1\n",
            "[True] Prediction: 0 True Y: 0\n",
            "[True] Prediction: 1 True Y: 1\n",
            "[True] Prediction: 5 True Y: 5\n",
            "[True] Prediction: 4 True Y: 4\n",
            "[True] Prediction: 4 True Y: 4\n",
            "[True] Prediction: 0 True Y: 0\n",
            "[True] Prediction: 0 True Y: 0\n",
            "[True] Prediction: 0 True Y: 0\n",
            "[True] Prediction: 5 True Y: 5\n",
            "[True] Prediction: 0 True Y: 0\n",
            "[True] Prediction: 0 True Y: 0\n",
            "[True] Prediction: 1 True Y: 1\n",
            "[True] Prediction: 3 True Y: 3\n",
            "[True] Prediction: 0 True Y: 0\n",
            "[True] Prediction: 0 True Y: 0\n",
            "[True] Prediction: 1 True Y: 1\n",
            "[True] Prediction: 3 True Y: 3\n",
            "[True] Prediction: 5 True Y: 5\n",
            "[True] Prediction: 5 True Y: 5\n",
            "[True] Prediction: 1 True Y: 1\n",
            "[True] Prediction: 5 True Y: 5\n",
            "[True] Prediction: 1 True Y: 1\n",
            "[True] Prediction: 0 True Y: 0\n",
            "[True] Prediction: 0 True Y: 0\n",
            "[True] Prediction: 6 True Y: 6\n",
            "[True] Prediction: 0 True Y: 0\n",
            "[True] Prediction: 0 True Y: 0\n",
            "[True] Prediction: 0 True Y: 0\n",
            "[True] Prediction: 0 True Y: 0\n",
            "[True] Prediction: 5 True Y: 5\n",
            "[True] Prediction: 4 True Y: 4\n",
            "[True] Prediction: 6 True Y: 6\n",
            "[True] Prediction: 0 True Y: 0\n",
            "[True] Prediction: 0 True Y: 0\n",
            "[True] Prediction: 1 True Y: 1\n",
            "[True] Prediction: 1 True Y: 1\n",
            "[True] Prediction: 1 True Y: 1\n",
            "[True] Prediction: 1 True Y: 1\n",
            "[True] Prediction: 3 True Y: 3\n",
            "[True] Prediction: 3 True Y: 3\n",
            "[True] Prediction: 2 True Y: 2\n",
            "[True] Prediction: 0 True Y: 0\n",
            "[True] Prediction: 0 True Y: 0\n",
            "[True] Prediction: 0 True Y: 0\n",
            "[True] Prediction: 0 True Y: 0\n",
            "[True] Prediction: 0 True Y: 0\n",
            "[True] Prediction: 0 True Y: 0\n",
            "[True] Prediction: 0 True Y: 0\n",
            "[True] Prediction: 0 True Y: 0\n",
            "[True] Prediction: 1 True Y: 1\n",
            "[True] Prediction: 6 True Y: 6\n",
            "[True] Prediction: 3 True Y: 3\n",
            "[True] Prediction: 0 True Y: 0\n",
            "[True] Prediction: 0 True Y: 0\n",
            "[True] Prediction: 2 True Y: 2\n",
            "[True] Prediction: 6 True Y: 6\n",
            "[True] Prediction: 1 True Y: 1\n",
            "[True] Prediction: 1 True Y: 1\n",
            "[True] Prediction: 2 True Y: 2\n",
            "[True] Prediction: 6 True Y: 6\n",
            "[True] Prediction: 3 True Y: 3\n",
            "[True] Prediction: 1 True Y: 1\n",
            "[True] Prediction: 0 True Y: 0\n",
            "[True] Prediction: 6 True Y: 6\n",
            "[True] Prediction: 3 True Y: 3\n",
            "[True] Prediction: 1 True Y: 1\n",
            "[True] Prediction: 5 True Y: 5\n",
            "[True] Prediction: 4 True Y: 4\n",
            "[True] Prediction: 2 True Y: 2\n",
            "[True] Prediction: 2 True Y: 2\n",
            "[True] Prediction: 3 True Y: 3\n",
            "[True] Prediction: 0 True Y: 0\n",
            "[True] Prediction: 0 True Y: 0\n",
            "[True] Prediction: 1 True Y: 1\n",
            "[True] Prediction: 0 True Y: 0\n",
            "[True] Prediction: 5 True Y: 5\n",
            "[True] Prediction: 0 True Y: 0\n",
            "[True] Prediction: 6 True Y: 6\n",
            "[True] Prediction: 1 True Y: 1\n"
          ]
        }
      ]
    },
    {
      "cell_type": "code",
      "source": [
        "cost = tf.reduce_mean(cost_i)\n",
        "optimizer = tf.train.GradientDescentOptimizer(learning_rate=0.1).minimize(cost)\n",
        "\n",
        "prediction = tf.argmax(hypothesis, 1)\n",
        "correct_prediction = tf.equal(prediction, tf.argmax(Y_one_hot, 1))\n",
        "accuracy = tf.reduce_mean(tf.cast(correct_prediction, tf.float32))\n",
        "# Launch graph\n",
        "with tf.Session() as sess:\n",
        "   sess.run(tf.global_variables_initializer())\n",
        "\n",
        "   for step in range(2000):\n",
        "       sess.run(optimizer, feed_dict={X: x_data, Y: y_data})\n",
        "       if step % 100 == 0:\n",
        "           loss, acc = sess.run([cost, accuracy], feed_dict={\n",
        "                                X: x_data, Y: y_data})\n",
        "           print(\"Step: {:5}\\tLoss: {:.3f}\\tAcc: {:.2%}\".format(\n",
        "               step, loss, acc))\n",
        "\n",
        "   # Let's see if we can predict\n",
        "   pred = sess.run(prediction, feed_dict={X: x_data})\n",
        "   # y_data: (N,1) = flatten => (N, ) matches pred.shape\n",
        "   for p, y in zip(pred, y_data.flatten()):\n",
        "       print(\"[{}] Prediction: {} True Y: {}\".format(p == int(y), p, int(y)))\n"
      ],
      "metadata": {
        "id": "pfASEgTTIuzc"
      },
      "execution_count": null,
      "outputs": []
    }
  ]
}