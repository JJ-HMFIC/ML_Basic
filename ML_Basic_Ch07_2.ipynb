{
  "nbformat": 4,
  "nbformat_minor": 0,
  "metadata": {
    "colab": {
      "provenance": [],
      "authorship_tag": "ABX9TyMBmKwSQ4y1BXtTIZAC3FyH",
      "include_colab_link": true
    },
    "kernelspec": {
      "name": "python3",
      "display_name": "Python 3"
    },
    "language_info": {
      "name": "python"
    }
  },
  "cells": [
    {
      "cell_type": "markdown",
      "metadata": {
        "id": "view-in-github",
        "colab_type": "text"
      },
      "source": [
        "<a href=\"https://colab.research.google.com/github/JJ-HMFIC/ML_Basic/blob/main/ML_Basic_Ch07_2.ipynb\" target=\"_parent\"><img src=\"https://colab.research.google.com/assets/colab-badge.svg\" alt=\"Open In Colab\"/></a>"
      ]
    },
    {
      "cell_type": "markdown",
      "source": [
        "07-2"
      ],
      "metadata": {
        "id": "tukODki2hTLh"
      }
    },
    {
      "cell_type": "code",
      "source": [
        "import tensorflow as tf\n",
        "import matplotlib.pyplot as plt\n",
        "import random\n",
        "# v1은 코랩에서 구현하기 힘들어 v2로 변환하여 진행\n",
        "tf.random.set_seed(777)  # for reproducibility"
      ],
      "metadata": {
        "id": "gKT62wBTmL_F"
      },
      "execution_count": null,
      "outputs": []
    },
    {
      "cell_type": "code",
      "source": [
        "# Load MNIST data\n",
        "mnist = tf.keras.datasets.mnist\n",
        "(x_train, y_train), (x_test, y_test) = mnist.load_data()\n",
        "x_train, x_test = x_train / 255.0, x_test / 255.0\n",
        "# 255.0으로 나누어 정규화"
      ],
      "metadata": {
        "id": "jO-AF57iwimt"
      },
      "execution_count": null,
      "outputs": []
    },
    {
      "cell_type": "code",
      "source": [
        "# Flatten the images\n",
        "x_train = x_train.reshape((x_train.shape[0], -1))\n",
        "x_test = x_test.reshape((x_test.shape[0], -1))\n",
        "# 1D 배열로 평면화"
      ],
      "metadata": {
        "id": "lNO-bB81wlNS"
      },
      "execution_count": null,
      "outputs": []
    },
    {
      "cell_type": "code",
      "source": [
        "nb_classes = 10"
      ],
      "metadata": {
        "id": "lHSJSaxUwnF2"
      },
      "execution_count": null,
      "outputs": []
    },
    {
      "cell_type": "code",
      "source": [
        "# Build the model\n",
        "model = tf.keras.models.Sequential([\n",
        "    tf.keras.layers.Dense(nb_classes, activation='softmax', input_shape=(784,))\n",
        "])\n",
        "# Sequential() : 입력층부터 출력층까지 차례대로 쌓아가는 것으로 모델을 구성\n",
        "# Dense() : 단일 Dense 레이어가 있는 간단한 순차 모델"
      ],
      "metadata": {
        "id": "dX4vcC76wpNL"
      },
      "execution_count": null,
      "outputs": []
    },
    {
      "cell_type": "code",
      "source": [
        "# 모델 컴파일\n",
        "model.compile(optimizer='sgd', loss='categorical_crossentropy', metrics=['accuracy'])\n",
        "# 정확도는 훈련 중에 모니터링할 측정항목"
      ],
      "metadata": {
        "id": "BEDpdBrFyT2W"
      },
      "execution_count": null,
      "outputs": []
    },
    {
      "cell_type": "code",
      "source": [
        "# Convert labels to one-hot encoding\n",
        "y_train_one_hot = tf.keras.utils.to_categorical(y_train, nb_classes)\n",
        "y_test_one_hot = tf.keras.utils.to_categorical(y_test, nb_classes)"
      ],
      "metadata": {
        "id": "nCtBhejQyWKa"
      },
      "execution_count": null,
      "outputs": []
    },
    {
      "cell_type": "code",
      "source": [
        "# Train the model\n",
        "num_epochs = 15 # 전체 데이터 셋을 한 번 다 학습 = 에폭\n",
        "batch_size = 100 # 한 번에 몇 개 돌릴꺼냐\n",
        "\n",
        "history = model.fit(x_train, y_train_one_hot, epochs=num_epochs, batch_size=batch_size)"
      ],
      "metadata": {
        "colab": {
          "base_uri": "https://localhost:8080/"
        },
        "id": "oPnU0Yy13urc",
        "outputId": "91628777-08c6-4bce-8bec-88688fe3de76"
      },
      "execution_count": null,
      "outputs": [
        {
          "output_type": "stream",
          "name": "stdout",
          "text": [
            "Train on 60000 samples\n",
            "Epoch 1/15\n",
            "60000/60000 [==============================] - 2s 31us/sample - loss: 1.1509 - acc: 0.7345\n",
            "Epoch 2/15\n",
            "60000/60000 [==============================] - 1s 17us/sample - loss: 0.6482 - acc: 0.8495\n",
            "Epoch 3/15\n",
            "60000/60000 [==============================] - 1s 17us/sample - loss: 0.5400 - acc: 0.8663\n",
            "Epoch 4/15\n",
            "60000/60000 [==============================] - 1s 17us/sample - loss: 0.4877 - acc: 0.8756\n",
            "Epoch 5/15\n",
            "60000/60000 [==============================] - 1s 16us/sample - loss: 0.4556 - acc: 0.8811\n",
            "Epoch 6/15\n",
            "60000/60000 [==============================] - 1s 16us/sample - loss: 0.4334 - acc: 0.8855\n",
            "Epoch 7/15\n",
            "60000/60000 [==============================] - 1s 17us/sample - loss: 0.4169 - acc: 0.8888\n",
            "Epoch 8/15\n",
            "60000/60000 [==============================] - 1s 17us/sample - loss: 0.4040 - acc: 0.8917\n",
            "Epoch 9/15\n",
            "60000/60000 [==============================] - 4s 69us/sample - loss: 0.3936 - acc: 0.8938\n",
            "Epoch 10/15\n",
            "60000/60000 [==============================] - 3s 53us/sample - loss: 0.3849 - acc: 0.8961\n",
            "Epoch 11/15\n",
            "60000/60000 [==============================] - 3s 55us/sample - loss: 0.3776 - acc: 0.8977\n",
            "Epoch 12/15\n",
            "60000/60000 [==============================] - 3s 50us/sample - loss: 0.3712 - acc: 0.8989\n",
            "Epoch 13/15\n",
            "60000/60000 [==============================] - 1s 23us/sample - loss: 0.3657 - acc: 0.9004\n",
            "Epoch 14/15\n",
            "60000/60000 [==============================] - 1s 17us/sample - loss: 0.3608 - acc: 0.9012\n",
            "Epoch 15/15\n",
            "60000/60000 [==============================] - 1s 17us/sample - loss: 0.3563 - acc: 0.9022\n"
          ]
        }
      ]
    },
    {
      "cell_type": "code",
      "source": [
        "# Evaluate the model on test data\n",
        "test_loss, test_accuracy = model.evaluate(x_test, y_test_one_hot, verbose=2)\n",
        "print(f\"Test Accuracy: {test_accuracy}\")"
      ],
      "metadata": {
        "colab": {
          "base_uri": "https://localhost:8080/"
        },
        "id": "c1NlNt-p32sB",
        "outputId": "421d6295-9f8a-4742-80f0-cfceece69e3e"
      },
      "execution_count": null,
      "outputs": [
        {
          "output_type": "stream",
          "name": "stderr",
          "text": [
            "/usr/local/lib/python3.10/dist-packages/keras/src/engine/training_v1.py:2335: UserWarning: `Model.state_updates` will be removed in a future version. This property should not be used in TensorFlow 2.0, as `updates` are applied automatically.\n",
            "  updates = self.state_updates\n"
          ]
        },
        {
          "output_type": "stream",
          "name": "stdout",
          "text": [
            "Test Accuracy: 0.9085000157356262\n"
          ]
        }
      ]
    },
    {
      "cell_type": "code",
      "source": [
        "plt.imshow(x_test[r].reshape(28, 28), cmap=\"Greys\", interpolation=\"nearest\")\n",
        "plt.show()"
      ],
      "metadata": {
        "colab": {
          "base_uri": "https://localhost:8080/",
          "height": 430
        },
        "id": "lFNPpkT94AWk",
        "outputId": "30a72d46-783a-4187-dffd-38c70641c916"
      },
      "execution_count": null,
      "outputs": [
        {
          "output_type": "display_data",
          "data": {
            "text/plain": [
              "<Figure size 640x480 with 1 Axes>"
            ],
            "image/png": "[encoded data removed]"
          },
          "metadata": {}
        }
      ]
    },
    {
      "cell_type": "code",
      "source": [
        "with tf.Session() as sess:\n",
        "   # Initialize TensorFlow variables\n",
        "   sess.run(tf.global_variables_initializer())\n",
        "   # Training cycle\n",
        "   for epoch in range(training_epochs):\n",
        "       avg_cost = 0\n",
        "       total_batch = int(mnist.train.num_examples / batch_size) # 몇 번 루프돌면 1 에폭이 되는가\n",
        "\n",
        "       for i in range(total_batch):\n",
        "           batch_xs, batch_ys = mnist.train.next_batch(batch_size) # 100개씩 읽어서\n",
        "           c, _ = sess.run([cost, optimizer], feed_dict={X: batch_xs, Y: batch_ys}) #학습\n",
        "           avg_cost += c / total_batch # 루프가 끝나면 1에폭이 끝남\n",
        "\n",
        "       print('Epoch:', '%04d' % (epoch + 1), 'cost =', '{:.9f}'.format(avg_cost))\n"
      ],
      "metadata": {
        "id": "zghf4Zp_4JGF"
      },
      "execution_count": null,
      "outputs": []
    },
    {
      "cell_type": "code",
      "source": [
        "# Test the model using test sets\n",
        "print(\"Accuracy: \", accuracy.eval(session=sess,\n",
        "      feed_dict={X: mnist.test.images, Y: mnist.test.labels}))\n"
      ],
      "metadata": {
        "id": "7H1yuSAj5nH8"
      },
      "execution_count": null,
      "outputs": []
    }
  ]
}