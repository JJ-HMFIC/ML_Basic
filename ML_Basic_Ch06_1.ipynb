{
  "nbformat": 4,
  "nbformat_minor": 0,
  "metadata": {
    "colab": {
      "provenance": [],
      "authorship_tag": "ABX9TyPqPLncjRWSi5p4Cg0xlU28",
      "include_colab_link": true
    },
    "kernelspec": {
      "name": "python3",
      "display_name": "Python 3"
    },
    "language_info": {
      "name": "python"
    }
  },
  "cells": [
    {
      "cell_type": "markdown",
      "metadata": {
        "id": "view-in-github",
        "colab_type": "text"
      },
      "source": [
        "<a href=\"https://colab.research.google.com/github/JJ-HMFIC/ML_Basic/blob/main/ML_Basic_Ch06_1.ipynb\" target=\"_parent\"><img src=\"https://colab.research.google.com/assets/colab-badge.svg\" alt=\"Open In Colab\"/></a>"
      ]
    },
    {
      "cell_type": "markdown",
      "source": [
        "ch 06"
      ],
      "metadata": {
        "id": "iPvXl2z4RvvA"
      }
    },
    {
      "cell_type": "code",
      "source": [
        "import tensorflow.compat.v1 as tf\n",
        "tf.disable_v2_behavior()"
      ],
      "metadata": {
        "id": "PCyAlBh2Rw8x",
        "colab": {
          "base_uri": "https://localhost:8080/"
        },
        "outputId": "dcbe2918-f762-46d0-83a1-eed201883689"
      },
      "execution_count": null,
      "outputs": [
        {
          "output_type": "stream",
          "name": "stderr",
          "text": [
            "WARNING:tensorflow:From /usr/local/lib/python3.10/dist-packages/tensorflow/python/compat/v2_compat.py:108: disable_resource_variables (from tensorflow.python.ops.variable_scope) is deprecated and will be removed in a future version.\n",
            "Instructions for updating:\n",
            "non-resource variables are not supported in the long term\n"
          ]
        }
      ]
    },
    {
      "cell_type": "code",
      "source": [
        "x_data = [[1, 2, 1, 1], [2, 1, 3, 2], [3, 1, 3, 4], [4, 1, 5, 5], [1, 7, 5, 5],\n",
        "                                                        [1, 2, 5, 6], [1, 6, 6, 6], [1, 7, 7, 7]]\n",
        "y_data = [[0, 0, 1], [0, 0, 1], [0, 0, 1], [0, 1, 0], [0, 1, 0], [0, 1, 0], [1, 0, 0], [1, 0, 0]] # one-hot Encoding\n",
        "\n",
        "X = tf.placeholder(\"float\", [None,4])\n",
        "Y = tf.placeholder(\"float\", [None,3])\n",
        "nb_classes = 3 # y의 개수와 동일"
      ],
      "metadata": {
        "id": "XegelCOV2EZn"
      },
      "execution_count": null,
      "outputs": []
    },
    {
      "cell_type": "code",
      "source": [
        "W = tf.Variable(tf.random_normal([4, nb_classes]), name='weight') # 4= 들어오는 값 = X, nb_classes= 나가는 값\n",
        "b = tf.Variable(tf.random_normal([nb_classes]), name='bias') # 출력값과 같음"
      ],
      "metadata": {
        "id": "kRg2jTkv61l_"
      },
      "execution_count": null,
      "outputs": []
    },
    {
      "cell_type": "code",
      "source": [
        "hypothesis = tf.nn.softmax(tf.matmul(X,W)+b)"
      ],
      "metadata": {
        "id": "x2Z40hCS8H2a"
      },
      "execution_count": null,
      "outputs": []
    },
    {
      "cell_type": "code",
      "source": [
        "cost = tf.reduce_mean(-tf.reduce_sum(Y * tf.log(hypothesis),axis=1))\n",
        "optimizer = tf.train.GradientDescentOptimizer(learning_rate=0.1).minimize(cost)"
      ],
      "metadata": {
        "id": "wqt9R8hY7_my"
      },
      "execution_count": null,
      "outputs": []
    },
    {
      "cell_type": "code",
      "source": [
        "sess = tf.Session()\n",
        "sess.run(tf.global_variables_initializer())\n",
        "\n",
        "for step in range(2001):\n",
        "  sess.run(optimizer, feed_dict={X:x_data, Y: y_data})\n",
        "  if step %200 ==0:\n",
        "    print(step, sess.run(cost, feed_dict={X: x_data, Y: y_data}))\n"
      ],
      "metadata": {
        "colab": {
          "base_uri": "https://localhost:8080/"
        },
        "id": "FqKvgXRS67ao",
        "outputId": "ef08b3dc-3f16-407f-ff7b-2f6d42ca4066"
      },
      "execution_count": null,
      "outputs": [
        {
          "output_type": "stream",
          "name": "stdout",
          "text": [
            "0 12.104818\n",
            "200 0.6349002\n",
            "400 0.51543766\n",
            "600 0.43353316\n",
            "800 0.3618114\n",
            "1000 0.29058594\n",
            "1200 0.2357335\n",
            "1400 0.21382105\n",
            "1600 0.19550085\n",
            "1800 0.17995432\n",
            "2000 0.166607\n"
          ]
        }
      ]
    },
    {
      "cell_type": "code",
      "source": [
        "a= sess.run(hypothesis, feed_dict={X: [[1,11,7,9]]})\n",
        "print(a, sess.run(tf.arg_max(a,1)))\n",
        "# [0.00001 0.9 0.0001]// 1= 012 중 1 선택"
      ],
      "metadata": {
        "colab": {
          "base_uri": "https://localhost:8080/"
        },
        "id": "MBuuPi5s8mye",
        "outputId": "7e88cef9-3bed-4239-b47a-d459344e6ed6"
      },
      "execution_count": null,
      "outputs": [
        {
          "output_type": "stream",
          "name": "stderr",
          "text": [
            "WARNING:tensorflow:From <ipython-input-7-180733c046e9>:2: arg_max (from tensorflow.python.ops.gen_math_ops) is deprecated and will be removed in a future version.\n",
            "Instructions for updating:\n",
            "Use `tf.math.argmax` instead\n"
          ]
        },
        {
          "output_type": "stream",
          "name": "stdout",
          "text": [
            "[[1.3412020e-02 9.8657739e-01 1.0628607e-05]] [1]\n"
          ]
        }
      ]
    },
    {
      "cell_type": "code",
      "source": [
        "all = sess.run(hypothesis, feed_dict={X: [[1, 11, 7, 9],\n",
        "                                          [1, 3, 4, 3],\n",
        "                                          [1, 1, 0, 1]]})\n",
        "print(all, sess.run(tf.arg_max(all, 1)))\n",
        "#argmax = argument중 가장 큰 인덱스 리턴"
      ],
      "metadata": {
        "colab": {
          "base_uri": "https://localhost:8080/"
        },
        "id": "CRsWIzj89Ae3",
        "outputId": "75a7dbd7-a883-45b0-8f3f-0a155369879b"
      },
      "execution_count": null,
      "outputs": [
        {
          "output_type": "stream",
          "name": "stdout",
          "text": [
            "[[1.34119885e-02 9.86577392e-01 1.06286070e-05]\n",
            " [7.88753331e-01 1.92924172e-01 1.83224566e-02]\n",
            " [2.57732609e-08 4.34573740e-04 9.99565423e-01]] [1 0 2]\n"
          ]
        }
      ]
    }
  ]
}