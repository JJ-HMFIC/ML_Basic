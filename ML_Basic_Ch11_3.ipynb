{
  "nbformat": 4,
  "nbformat_minor": 0,
  "metadata": {
    "colab": {
      "provenance": [],
      "authorship_tag": "ABX9TyPBEcCdP40X/IIkCEwO+UJx",
      "include_colab_link": true
    },
    "kernelspec": {
      "name": "python3",
      "display_name": "Python 3"
    },
    "language_info": {
      "name": "python"
    }
  },
  "cells": [
    {
      "cell_type": "markdown",
      "metadata": {
        "id": "view-in-github",
        "colab_type": "text"
      },
      "source": [
        "<a href=\"https://colab.research.google.com/github/JJ-HMFIC/ML_Basic/blob/main/ML_Basic_Ch11_3.ipynb\" target=\"_parent\"><img src=\"https://colab.research.google.com/assets/colab-badge.svg\" alt=\"Open In Colab\"/></a>"
      ]
    },
    {
      "cell_type": "markdown",
      "source": [
        "11-3-mnist_cnn_class"
      ],
      "metadata": {
        "id": "PER0XVjShDcX"
      }
    },
    {
      "cell_type": "code",
      "source": [
        "import tensorflow as tf\n",
        "from tensorflow.keras import layers, models\n",
        "from tensorflow.keras.utils import to_categorical\n",
        "\n",
        "# hyper parameters\n",
        "learning_rate = 0.001\n",
        "training_epochs = 15\n",
        "batch_size = 100\n",
        "\n",
        "class Model(tf.keras.Model):\n",
        "\n",
        "    def __init__(self):\n",
        "        super(Model, self).__init__()\n",
        "        self.keep_prob = 0.7\n",
        "\n",
        "        # L1 # build_net 부분은 생성자에 포함\n",
        "        self.conv1 = layers.Conv2D(32, kernel_size=(3, 3), strides=(1, 1), padding='same', activation='relu', input_shape=(28, 28, 1))\n",
        "        self.pool1 = layers.MaxPooling2D(pool_size=(2, 2), strides=(2, 2), padding='same')\n",
        "        self.dropout1 = layers.Dropout(self.keep_prob)\n",
        "\n",
        "        # L2\n",
        "        self.conv2 = layers.Conv2D(64, kernel_size=(3, 3), strides=(1, 1), padding='same', activation='relu')\n",
        "        self.pool2 = layers.MaxPooling2D(pool_size=(2, 2), strides=(2, 2), padding='same')\n",
        "        self.dropout2 = layers.Dropout(self.keep_prob)\n",
        "\n",
        "        # L3\n",
        "        self.conv3 = layers.Conv2D(128, kernel_size=(3, 3), strides=(1, 1), padding='same', activation='relu')\n",
        "        self.pool3 = layers.MaxPooling2D(pool_size=(2, 2), strides=(2, 2), padding='same')\n",
        "        self.dropout3 = layers.Dropout(self.keep_prob)\n",
        "\n",
        "        # L4\n",
        "        self.flatten = layers.Flatten()\n",
        "        self.dense4 = layers.Dense(625, activation='relu')\n",
        "        self.dropout4 = layers.Dropout(self.keep_prob)\n",
        "\n",
        "        # L5\n",
        "        self.dense5 = layers.Dense(10, activation='softmax')\n",
        "\n",
        "    def call(self, inputs, training=False):\n",
        "        x = self.conv1(inputs)\n",
        "        x = self.pool1(x)\n",
        "        x = self.dropout1(x, training=training)\n",
        "\n",
        "        x = self.conv2(x)\n",
        "        x = self.pool2(x)\n",
        "        x = self.dropout2(x, training=training)\n",
        "\n",
        "        x = self.conv3(x)\n",
        "        x = self.pool3(x)\n",
        "        x = self.dropout3(x, training=training)\n",
        "\n",
        "        x = self.flatten(x)\n",
        "        x = self.dense4(x)\n",
        "        x = self.dropout4(x, training=training)\n",
        "\n",
        "        return self.dense5(x)\n",
        "\n",
        "# create model\n",
        "model = Model()\n",
        "\n",
        "# compile the model\n",
        "model.compile(optimizer=tf.optimizers.Adam(learning_rate), loss='categorical_crossentropy', metrics=['accuracy'])\n",
        "\n",
        "# preprocess the data\n",
        "(x_train, y_train), (x_test, y_test) = tf.keras.datasets.mnist.load_data()\n",
        "x_train, x_test = x_train / 255.0, x_test / 255.0\n",
        "\n",
        "x_train = x_train.reshape(x_train.shape[0], 28, 28, 1).astype('float32')\n",
        "x_test = x_test.reshape(x_test.shape[0], 28, 28, 1).astype('float32')\n",
        "\n",
        "y_train = to_categorical(y_train, 10)\n",
        "y_test = to_categorical(y_test, 10)\n",
        "\n",
        "# train the model\n",
        "model.fit(x_train, y_train, epochs=training_epochs, batch_size=batch_size)\n",
        "\n",
        "# evaluate the model\n",
        "test_loss, test_acc = model.evaluate(x_test, y_test)\n",
        "print('Test Accuracy:', test_acc)\n"
      ],
      "metadata": {
        "colab": {
          "base_uri": "https://localhost:8080/"
        },
        "id": "91kcckt6dTot",
        "outputId": "7a10c919-000d-4978-963c-fd37368c7844"
      },
      "execution_count": null,
      "outputs": [
        {
          "output_type": "stream",
          "name": "stdout",
          "text": [
            "Epoch 1/15\n",
            "600/600 [==============================] - 5s 6ms/step - loss: 0.8857 - accuracy: 0.6974\n",
            "Epoch 2/15\n",
            "600/600 [==============================] - 4s 7ms/step - loss: 0.3301 - accuracy: 0.8957\n",
            "Epoch 3/15\n",
            "600/600 [==============================] - 3s 6ms/step - loss: 0.2607 - accuracy: 0.9182\n",
            "Epoch 4/15\n",
            "600/600 [==============================] - 4s 7ms/step - loss: 0.2303 - accuracy: 0.9297\n",
            "Epoch 5/15\n",
            "600/600 [==============================] - 7s 11ms/step - loss: 0.2118 - accuracy: 0.9342\n",
            "Epoch 6/15\n",
            "600/600 [==============================] - 6s 10ms/step - loss: 0.1995 - accuracy: 0.9396\n",
            "Epoch 7/15\n",
            "600/600 [==============================] - 5s 8ms/step - loss: 0.1887 - accuracy: 0.9420\n",
            "Epoch 8/15\n",
            "600/600 [==============================] - 7s 11ms/step - loss: 0.1838 - accuracy: 0.9444\n",
            "Epoch 9/15\n",
            "600/600 [==============================] - 4s 7ms/step - loss: 0.1750 - accuracy: 0.9470\n",
            "Epoch 10/15\n",
            "600/600 [==============================] - 3s 6ms/step - loss: 0.1683 - accuracy: 0.9476\n",
            "Epoch 11/15\n",
            "600/600 [==============================] - 4s 6ms/step - loss: 0.1701 - accuracy: 0.9482\n",
            "Epoch 12/15\n",
            "600/600 [==============================] - 4s 7ms/step - loss: 0.1653 - accuracy: 0.9490\n",
            "Epoch 13/15\n",
            "600/600 [==============================] - 3s 6ms/step - loss: 0.1624 - accuracy: 0.9499\n",
            "Epoch 14/15\n",
            "600/600 [==============================] - 3s 6ms/step - loss: 0.1630 - accuracy: 0.9496\n",
            "Epoch 15/15\n",
            "600/600 [==============================] - 3s 6ms/step - loss: 0.1620 - accuracy: 0.9507\n",
            "313/313 [==============================] - 1s 3ms/step - loss: 0.0458 - accuracy: 0.9881\n",
            "Test Accuracy: 0.988099992275238\n"
          ]
        }
      ]
    },
    {
      "cell_type": "markdown",
      "source": [
        "앙상블(Ensemble)\"은 여러 개의 모델을 결합하여 하나의 모델로 사용하는 기법을 의미합니다.\n",
        "\n",
        "이는 여러 모델의 예측을 조합하여 더 강력하고 안정적인 예측을 만들어내는 방법입니다"
      ],
      "metadata": {
        "id": "5wOvbA8jrIYm"
      }
    },
    {
      "cell_type": "code",
      "source": [
        "test_size = len(mnist.test_labels)\n",
        "predictions = np.zeros([test_size, 10])\n",
        "for m_idx, m in enumerate(models):\n",
        "    print(m_idx, 'Accuracy:', np.mean(np.argmax(m.predict(mnist.test_images, training=False), axis=1) == np.argmax(mnist.test_labels, axis=1)))\n",
        "    p = m.predict(mnist.test_images, training=False)\n",
        "    predictions += p.numpy()\n",
        "\n",
        "ensemble_correct_prediction = np.equal(np.argmax(predictions, 1), np.argmax(mnist.test_labels, 1))\n",
        "ensemble_accuracy = np.mean(ensemble_correct_prediction)\n",
        "print('Ensemble accuracy:', ensemble_accuracy)"
      ],
      "metadata": {
        "id": "E1hkJYdbo9m-"
      },
      "execution_count": null,
      "outputs": []
    }
  ]
}