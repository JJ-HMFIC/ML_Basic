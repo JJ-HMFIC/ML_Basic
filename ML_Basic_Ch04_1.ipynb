{
  "nbformat": 4,
  "nbformat_minor": 0,
  "metadata": {
    "colab": {
      "provenance": [],
      "authorship_tag": "ABX9TyNS4ee+qVxkHRJ6Q+79//hf",
      "include_colab_link": true
    },
    "kernelspec": {
      "name": "python3",
      "display_name": "Python 3"
    },
    "language_info": {
      "name": "python"
    }
  },
  "cells": [
    {
      "cell_type": "markdown",
      "metadata": {
        "id": "view-in-github",
        "colab_type": "text"
      },
      "source": [
        "<a href=\"https://colab.research.google.com/github/JJ-HMFIC/ML_Basic/blob/main/ML_Basic_Ch04_1.ipynb\" target=\"_parent\"><img src=\"https://colab.research.google.com/assets/colab-badge.svg\" alt=\"Open In Colab\"/></a>"
      ]
    },
    {
      "cell_type": "markdown",
      "source": [
        "ch 04"
      ],
      "metadata": {
        "id": "aR7a_OSNF4gL"
      }
    },
    {
      "cell_type": "code",
      "source": [
        "x1_data = [73., 93., 89., 96., 73.]\n",
        "x2_data = [80., 88., 91., 98., 66.]\n",
        "x3_data = [75., 93., 90., 100., 70.]\n",
        "y_data = [152., 185., 180., 196., 142.]"
      ],
      "metadata": {
        "id": "hbAhnMyEGadH"
      },
      "execution_count": null,
      "outputs": []
    },
    {
      "cell_type": "code",
      "source": [
        "x1 = tf.placeholder(tf.float32)\n",
        "x2 = tf.placeholder(tf.float32)\n",
        "x3 = tf.placeholder(tf.float32)\n",
        "Y = tf.placeholder(tf.float32)"
      ],
      "metadata": {
        "id": "DMsVudTx42Bc"
      },
      "execution_count": null,
      "outputs": []
    },
    {
      "cell_type": "code",
      "source": [
        "w1 = tf.Variable(tf.random_normal([1]), name='weight1')\n",
        "w2 = tf.Variable(tf.random_normal([1]), name='weight2')\n",
        "w3 = tf.Variable(tf.random_normal([1]), name='weight3')\n",
        "b = tf.Variable(tf.random_normal([1]), name='bias')\n",
        "#tf.random_normal([1]): 평균이 0이고 표준편차가 1인 정규 분포에서 랜덤한 값을 생성하는 함수"
      ],
      "metadata": {
        "id": "FdZjHLqQ5DH7"
      },
      "execution_count": null,
      "outputs": []
    },
    {
      "cell_type": "code",
      "source": [
        "hypothesis = x1 * w1 + x2 * w2 + x3 * w3 + b\n",
        " # 위의 방법은 지저분해서 더이상 사용하지 않음"
      ],
      "metadata": {
        "id": "N3G_F6nu6LgU"
      },
      "execution_count": null,
      "outputs": []
    },
    {
      "cell_type": "code",
      "source": [
        "cost = tf.reduce_mean(tf.square(hypothesis - Y))\n",
        "optimizer = tf.train.GradientDescentOptimizer(learning_rate=1e-5)\n",
        "train = optimizer.minimize(cost)"
      ],
      "metadata": {
        "id": "01ATltM86UMd"
      },
      "execution_count": null,
      "outputs": []
    },
    {
      "cell_type": "code",
      "source": [
        "sess = tf.Session()\n",
        "sess.run(tf.global_variables_initializer())\n",
        "for step in range(2001):\n",
        "  cost_val, hy_val , _  = sess.run([cost, hypothesis, train],\n",
        "                                   feed_dict={x1:x1_data, x2:x2_data,x3:x3_data,Y:y_data})\n",
        "  if step % 10 == 0:\n",
        "    print(step, \"Cost : \", cost_val, \"\\nPrediction:\\n\", hy_val)\n"
      ],
      "metadata": {
        "id": "KoLJWj7z608k"
      },
      "execution_count": null,
      "outputs": []
    },
    {
      "cell_type": "code",
      "source": [
        "# Matrix\n",
        "x_data = [[73., 80., 75.],\n",
        "          [93., 88., 93.],\n",
        "          [89., 91., 90.],\n",
        "          [96., 98., 100.],\n",
        "          [73., 66., 70.]]\n",
        "y_data = [[152.], [185.], [180.], [196.], [142.]]"
      ],
      "metadata": {
        "id": "keP7oFJT75QM"
      },
      "execution_count": null,
      "outputs": []
    },
    {
      "cell_type": "code",
      "source": [
        "X = tf.placeholder(tf.float32, shape = [None, 3])\n",
        "Y = tf.placeholder(tf.float32 , shape = [None, 1])"
      ],
      "metadata": {
        "id": "52Z8HNYkgjkD"
      },
      "execution_count": null,
      "outputs": []
    },
    {
      "cell_type": "code",
      "source": [
        "W = tf.Variable(tf.random_normal([3,1]), name='weight')\n",
        "#평균이 0이고 표준편차가 1인 정규 분포에서 랜덤한 값을 생성하여 3x1 행렬\n",
        "b = tf.Variable(tf.random_normal([1]), name='bias')"
      ],
      "metadata": {
        "id": "nw6L60-2g3dL"
      },
      "execution_count": null,
      "outputs": []
    },
    {
      "cell_type": "code",
      "source": [
        "hypothesis = tf.matmul(X, W) + b"
      ],
      "metadata": {
        "id": "kl3zbL6Yg9LT"
      },
      "execution_count": null,
      "outputs": []
    },
    {
      "cell_type": "code",
      "source": [
        "cost = tf.reduce_mean(tf.square(hypothesis - Y))\n",
        "optimizer = tf.train.GradientDescentOptimizer(learning_rate=1e-5)\n",
        "train = optimizer.minimize(cost)\n",
        "sess = tf.Session()\n",
        "sess.run(tf.global_variables_initializer())\n",
        "\n",
        "for step in range(2001):\n",
        "  cost_val, hy_val , _  = sess.run(\n",
        "      [cost, hypothesis, train], feed_dict={x1:x1_data, X:x_data,Y:y_data})\n",
        "  if step % 10 == 0:\n",
        "    print(step, \"Cost : \", cost_val, \"\\nPrediction:\\n\", hy_val)"
      ],
      "metadata": {
        "id": "TtFLB1p1hTY2"
      },
      "execution_count": null,
      "outputs": []
    }
  ]
}