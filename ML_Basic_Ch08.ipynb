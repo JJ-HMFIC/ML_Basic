{
  "nbformat": 4,
  "nbformat_minor": 0,
  "metadata": {
    "colab": {
      "provenance": [],
      "authorship_tag": "ABX9TyPtvfCnZOE0bzOB52sDu7qu",
      "include_colab_link": true
    },
    "kernelspec": {
      "name": "python3",
      "display_name": "Python 3"
    },
    "language_info": {
      "name": "python"
    }
  },
  "cells": [
    {
      "cell_type": "markdown",
      "metadata": {
        "id": "view-in-github",
        "colab_type": "text"
      },
      "source": [
        "<a href=\"https://colab.research.google.com/github/JJ-HMFIC/ML_Basic/blob/main/ML_Basic_Ch08.ipynb\" target=\"_parent\"><img src=\"https://colab.research.google.com/assets/colab-badge.svg\" alt=\"Open In Colab\"/></a>"
      ]
    },
    {
      "cell_type": "markdown",
      "source": [
        "ch 08"
      ],
      "metadata": {
        "id": "5gaUCct_52YX"
      }
    },
    {
      "cell_type": "code",
      "source": [
        "import numpy as np\n",
        "import pprint"
      ],
      "metadata": {
        "id": "TZz2VihQ53Ss"
      },
      "execution_count": null,
      "outputs": []
    },
    {
      "cell_type": "code",
      "source": [
        "import tensorflow.compat.v1 as tf\n",
        "tf.disable_v2_behavior()\n",
        "\n",
        "pp = pprint.PrettyPrinter(indent=4)\n",
        "sess = tf.InteractiveSession()"
      ],
      "metadata": {
        "id": "oSvsKHz43n-r"
      },
      "execution_count": null,
      "outputs": []
    },
    {
      "cell_type": "markdown",
      "source": [
        "1차원 배열"
      ],
      "metadata": {
        "id": "S7H7WvbDnwX2"
      }
    },
    {
      "cell_type": "code",
      "source": [
        "t = np.array([0., 1., 2., 3., 4., 5., 6.])\n",
        "\n",
        "pp.pprint(t)\n",
        "print(t.ndim) # rank\n",
        "print(t.shape) # shape (7,)= 1차원을 의미함"
      ],
      "metadata": {
        "colab": {
          "base_uri": "https://localhost:8080/"
        },
        "id": "lgJJ_RKoCifX",
        "outputId": "3bfc830f-6258-4ec4-f179-9878d1ae0037"
      },
      "execution_count": null,
      "outputs": [
        {
          "output_type": "stream",
          "name": "stdout",
          "text": [
            "array([0., 1., 2., 3., 4., 5., 6.])\n",
            "1\n",
            "(7,)\n"
          ]
        }
      ]
    },
    {
      "cell_type": "code",
      "source": [
        "print(t[0], t[1], t[-1])\n",
        "print(t[2:5], t[4:-1])\n",
        "print(t[:2], t[3:])"
      ],
      "metadata": {
        "colab": {
          "base_uri": "https://localhost:8080/"
        },
        "id": "PWAF2CndElXA",
        "outputId": "e4ff2841-83ea-40f0-f249-70f2f832f293"
      },
      "execution_count": null,
      "outputs": [
        {
          "output_type": "stream",
          "name": "stdout",
          "text": [
            "0.0 1.0 6.0\n",
            "[2. 3. 4.] [4. 5.]\n",
            "[0. 1.] [3. 4. 5. 6.]\n"
          ]
        }
      ]
    },
    {
      "cell_type": "markdown",
      "source": [
        "2차원 배열"
      ],
      "metadata": {
        "id": "rVjvrOWEn01H"
      }
    },
    {
      "cell_type": "code",
      "source": [
        "# 2D Array\n",
        "t = np.array([[1., 2., 3.], [4., 5., 6.], [7., 8., 9.], [10., 11., 12.]])\n",
        "\n",
        "pp.pprint(t)\n",
        "print(t.ndim) # rank\n",
        "print(t.shape) # shape"
      ],
      "metadata": {
        "colab": {
          "base_uri": "https://localhost:8080/"
        },
        "id": "FAxnR5_HEy0Z",
        "outputId": "9e5eb828-811b-4d8d-e259-b55ad3040f85"
      },
      "execution_count": null,
      "outputs": [
        {
          "output_type": "stream",
          "name": "stdout",
          "text": [
            "array([[ 1.,  2.,  3.],\n",
            "       [ 4.,  5.,  6.],\n",
            "       [ 7.,  8.,  9.],\n",
            "       [10., 11., 12.]])\n",
            "2\n",
            "(4, 3)\n"
          ]
        }
      ]
    },
    {
      "cell_type": "markdown",
      "source": [
        "shape, rank, axis"
      ],
      "metadata": {
        "id": "8A_3Z3A6n5SS"
      }
    },
    {
      "cell_type": "code",
      "source": [
        "t = tf.constant([1,2,3,4])\n",
        "tf.shape(t).eval() #"
      ],
      "metadata": {
        "colab": {
          "base_uri": "https://localhost:8080/"
        },
        "id": "f7R9lzfzE4Uf",
        "outputId": "b7307e1e-bd37-48e6-9438-8150b4f7c80b"
      },
      "execution_count": null,
      "outputs": [
        {
          "output_type": "execute_result",
          "data": {
            "text/plain": [
              "array([4], dtype=int32)"
            ]
          },
          "metadata": {},
          "execution_count": 7
        }
      ]
    },
    {
      "cell_type": "code",
      "source": [
        "t = tf.constant([[1,2],\n",
        "                 [3,4]])\n",
        "tf.shape(t).eval() # 대괄호가 몇개 있냐 = 랭크 = 2\n",
        "# 한 괄호에 2개의 원소 (두 번째 2)\n",
        "# 대괄호 세트가 몇개 있느냐 (첫 번째 2)"
      ],
      "metadata": {
        "colab": {
          "base_uri": "https://localhost:8080/"
        },
        "id": "rvWsGdMiFLJ3",
        "outputId": "6a827c22-74c2-4656-ba20-f3da5cd18c3b"
      },
      "execution_count": null,
      "outputs": [
        {
          "output_type": "execute_result",
          "data": {
            "text/plain": [
              "array([2, 2], dtype=int32)"
            ]
          },
          "metadata": {},
          "execution_count": 8
        }
      ]
    },
    {
      "cell_type": "code",
      "source": [
        "t = tf.constant([[[[1, 2, 3, 4], [5, 6, 7, 8], [9, 10, 11, 12]],[[13, 14, 15, 16], [17, 18, 19, 20], [21, 22, 23, 24]]]])\n",
        "tf.shape(t).eval()\n",
        "# 랭크 = 4\n",
        "# [] 하나당 원소의 개수 4개 = 4\n",
        "# 큰 [] 당 []의 개수 3개 = 3\n",
        "# 전체 []의 개수 = 2 개\n",
        "# 제일 바깥쪽 [] = 1개"
      ],
      "metadata": {
        "colab": {
          "base_uri": "https://localhost:8080/"
        },
        "id": "gbvwYsy4H67K",
        "outputId": "69c9a6ce-5067-4559-db2c-ec58fb8039a4"
      },
      "execution_count": null,
      "outputs": [
        {
          "output_type": "execute_result",
          "data": {
            "text/plain": [
              "array([1, 2, 3, 4], dtype=int32)"
            ]
          },
          "metadata": {},
          "execution_count": 9
        }
      ]
    },
    {
      "cell_type": "code",
      "source": [
        "[ #axis = 0\n",
        "    [  # axis = 1\n",
        "        [ # axis= 2\n",
        "            [1,2,3,4], # axis = 3\n",
        "            [5,6,7,8],\n",
        "            [9,10,11,12]\n",
        "        ],\n",
        "        [                                                    #axis = -1\n",
        "            [13,14,15,16],\n",
        "            [17,18,19,20],\n",
        "            [21,22,23,24]\n",
        "        ]\n",
        "    ]\n",
        "]"
      ],
      "metadata": {
        "colab": {
          "base_uri": "https://localhost:8080/"
        },
        "id": "GY3HzevNIfEY",
        "outputId": "b519dc3c-1866-46f0-8d28-c41ffef2d08a"
      },
      "execution_count": null,
      "outputs": [
        {
          "output_type": "execute_result",
          "data": {
            "text/plain": [
              "[[[[1, 2, 3, 4], [5, 6, 7, 8], [9, 10, 11, 12]],\n",
              "  [[13, 14, 15, 16], [17, 18, 19, 20], [21, 22, 23, 24]]]]"
            ]
          },
          "metadata": {},
          "execution_count": 10
        }
      ]
    },
    {
      "cell_type": "markdown",
      "source": [
        "matmul vs mulitply"
      ],
      "metadata": {
        "id": "Gp1uZpuBn-wS"
      }
    },
    {
      "cell_type": "code",
      "source": [
        "matrix1 = tf.constant([[1.,2.,],[ 3.,4.]]) # (2,2)\n",
        "matrix2 = tf.constant([[1.],[2.]]) # (2,1)\n",
        "print(\"Matrix 1 shape:\", matrix1.shape )\n",
        "print(\"Matrix 2 shape:\", matrix2.shape )\n",
        "\n",
        "tf.matmul(matrix1, matrix2).eval() # 행렬곱"
      ],
      "metadata": {
        "colab": {
          "base_uri": "https://localhost:8080/"
        },
        "id": "dIsdTx19JSEB",
        "outputId": "ec001f28-f053-496b-f9e4-cf925752461d"
      },
      "execution_count": null,
      "outputs": [
        {
          "output_type": "stream",
          "name": "stdout",
          "text": [
            "Matrix 1 shape: (2, 2)\n",
            "Matrix 2 shape: (2, 1)\n"
          ]
        },
        {
          "output_type": "execute_result",
          "data": {
            "text/plain": [
              "array([[ 5.],\n",
              "       [11.]], dtype=float32)"
            ]
          },
          "metadata": {},
          "execution_count": 12
        }
      ]
    },
    {
      "cell_type": "code",
      "source": [
        "(matrix1*matrix2).eval()"
      ],
      "metadata": {
        "colab": {
          "base_uri": "https://localhost:8080/"
        },
        "id": "Y38tnC2YKO1e",
        "outputId": "5346d265-4552-4637-8727-9d7dc3942896"
      },
      "execution_count": null,
      "outputs": [
        {
          "output_type": "execute_result",
          "data": {
            "text/plain": [
              "array([[1., 2.],\n",
              "       [6., 8.]], dtype=float32)"
            ]
          },
          "metadata": {},
          "execution_count": 13
        }
      ]
    },
    {
      "cell_type": "markdown",
      "source": [
        "broadcasting"
      ],
      "metadata": {
        "id": "7hzxBwl-oHE-"
      }
    },
    {
      "cell_type": "code",
      "source": [
        "matrix1 = tf.constant([[3., 3.]]) #(1,2)\n",
        "matrix2 = tf.constant([[2.],[2.]])#(2,1)\n",
        "(matrix1+matrix2).eval() #"
      ],
      "metadata": {
        "colab": {
          "base_uri": "https://localhost:8080/"
        },
        "id": "AEcq6cjSK4Gh",
        "outputId": "d07b4d1a-1704-40da-d725-2ab27c037acb"
      },
      "execution_count": null,
      "outputs": [
        {
          "output_type": "execute_result",
          "data": {
            "text/plain": [
              "array([[5., 5.],\n",
              "       [5., 5.]], dtype=float32)"
            ]
          },
          "metadata": {},
          "execution_count": 14
        }
      ]
    },
    {
      "cell_type": "code",
      "source": [
        "matrix1 = tf.constant([[3., 3.]])\n",
        "matrix2 = tf.constant([[2., 2.]])\n",
        "(matrix1+matrix2).eval() # 같은 shape이라서 일대일 매핑"
      ],
      "metadata": {
        "colab": {
          "base_uri": "https://localhost:8080/"
        },
        "id": "UMA4R55zLCBx",
        "outputId": "d5fae41e-c6ab-4f79-b704-0e2513f600ea"
      },
      "execution_count": null,
      "outputs": [
        {
          "output_type": "execute_result",
          "data": {
            "text/plain": [
              "array([[5., 5.]], dtype=float32)"
            ]
          },
          "metadata": {},
          "execution_count": 15
        }
      ]
    },
    {
      "cell_type": "code",
      "source": [
        "matrix1 = tf.constant([[1., 2.]])\n",
        "matrix2 = tf.constant(3.)\n",
        "(matrix1+matrix2).eval() # shape이 달라 3,3으로 자동 매핑 = broadcasting"
      ],
      "metadata": {
        "colab": {
          "base_uri": "https://localhost:8080/"
        },
        "id": "OiqIK97ILUPt",
        "outputId": "7640e331-bbc9-47f2-f394-f85669bb2221"
      },
      "execution_count": null,
      "outputs": [
        {
          "output_type": "execute_result",
          "data": {
            "text/plain": [
              "array([[4., 5.]], dtype=float32)"
            ]
          },
          "metadata": {},
          "execution_count": 16
        }
      ]
    },
    {
      "cell_type": "code",
      "source": [
        "matrix1 = tf.constant([[1., 2.]])\n",
        "matrix2 = tf.constant([3., 4.]) # rank가 달라도 계산 가능\n",
        "(matrix1+matrix2).eval()"
      ],
      "metadata": {
        "colab": {
          "base_uri": "https://localhost:8080/"
        },
        "id": "S1l5dJ7OnFDC",
        "outputId": "1659d802-964d-4892-caf8-1e7a14bad319"
      },
      "execution_count": null,
      "outputs": [
        {
          "output_type": "execute_result",
          "data": {
            "text/plain": [
              "array([[4., 6.]], dtype=float32)"
            ]
          },
          "metadata": {},
          "execution_count": 17
        }
      ]
    },
    {
      "cell_type": "code",
      "source": [
        "matrix1 = tf.constant([[1., 2.]])\n",
        "matrix2 = tf.constant([[3.], [4.]])\n",
        "(matrix1+matrix2).eval() # 다른 형태의 tensor도 가능"
      ],
      "metadata": {
        "colab": {
          "base_uri": "https://localhost:8080/"
        },
        "id": "bcLHL0egnO_L",
        "outputId": "881032cd-8291-4bf4-b46d-e0a07f31e1be"
      },
      "execution_count": null,
      "outputs": [
        {
          "output_type": "execute_result",
          "data": {
            "text/plain": [
              "array([[4., 5.],\n",
              "       [5., 6.]], dtype=float32)"
            ]
          },
          "metadata": {},
          "execution_count": 18
        }
      ]
    },
    {
      "cell_type": "markdown",
      "source": [
        "Reduce Mean/Sum\n"
      ],
      "metadata": {
        "id": "01qDKbleo0xk"
      }
    },
    {
      "cell_type": "code",
      "source": [
        "tf.reduce_mean([1, 2], axis=0).eval()\n",
        "# 1.5가 나오지 않음 , 원소가 정수라서"
      ],
      "metadata": {
        "colab": {
          "base_uri": "https://localhost:8080/"
        },
        "id": "VuOMJ7qwneek",
        "outputId": "10b2c09a-af0f-43a6-a0f6-735f8784cc50"
      },
      "execution_count": null,
      "outputs": [
        {
          "output_type": "execute_result",
          "data": {
            "text/plain": [
              "1"
            ]
          },
          "metadata": {},
          "execution_count": 19
        }
      ]
    },
    {
      "cell_type": "code",
      "source": [
        "x = [[1., 2.], #-> axis =1\n",
        "     [3., 4.]]\n",
        "# ↓ axis = 0\n",
        "\n",
        "tf.reduce_mean(x).eval()"
      ],
      "metadata": {
        "colab": {
          "base_uri": "https://localhost:8080/"
        },
        "id": "AyiOW5XKo68i",
        "outputId": "eb85d238-f1f5-4e80-a64f-c256b1a0ee93"
      },
      "execution_count": null,
      "outputs": [
        {
          "output_type": "execute_result",
          "data": {
            "text/plain": [
              "2.5"
            ]
          },
          "metadata": {},
          "execution_count": 20
        }
      ]
    },
    {
      "cell_type": "code",
      "source": [
        "tf.reduce_mean(x, axis=0).eval()\n",
        "# axis = 0 , 세로축을 중심으로"
      ],
      "metadata": {
        "colab": {
          "base_uri": "https://localhost:8080/"
        },
        "id": "okXQXT9opANx",
        "outputId": "4d476192-a6ad-4de8-d188-ac2ced2139fd"
      },
      "execution_count": null,
      "outputs": [
        {
          "output_type": "execute_result",
          "data": {
            "text/plain": [
              "array([2., 3.], dtype=float32)"
            ]
          },
          "metadata": {},
          "execution_count": 21
        }
      ]
    },
    {
      "cell_type": "code",
      "source": [
        "tf.reduce_mean(x, axis=1).eval()\n",
        "# # axis = 1 , 가로축을 중심으로"
      ],
      "metadata": {
        "colab": {
          "base_uri": "https://localhost:8080/"
        },
        "id": "QzrkI1oHpV6v",
        "outputId": "0174d43c-22f4-486d-91a3-70fe5683d96e"
      },
      "execution_count": null,
      "outputs": [
        {
          "output_type": "execute_result",
          "data": {
            "text/plain": [
              "array([1.5, 3.5], dtype=float32)"
            ]
          },
          "metadata": {},
          "execution_count": 23
        }
      ]
    },
    {
      "cell_type": "code",
      "source": [
        "tf.reduce_mean(x, axis=-1).eval()\n",
        "# -1 : 가장 안쪽에 있는 값으로 평균내어라"
      ],
      "metadata": {
        "colab": {
          "base_uri": "https://localhost:8080/"
        },
        "id": "QqBg01HZpdMU",
        "outputId": "e09ed137-962b-41c6-f8a3-e410ae63424d"
      },
      "execution_count": null,
      "outputs": [
        {
          "output_type": "execute_result",
          "data": {
            "text/plain": [
              "array([1.5, 3.5], dtype=float32)"
            ]
          },
          "metadata": {},
          "execution_count": 24
        }
      ]
    },
    {
      "cell_type": "code",
      "source": [
        "tf.reduce_sum(x).eval()"
      ],
      "metadata": {
        "colab": {
          "base_uri": "https://localhost:8080/"
        },
        "id": "HdJkNur-piOI",
        "outputId": "67542437-d09e-4be0-c9ca-0510a9235d7c"
      },
      "execution_count": null,
      "outputs": [
        {
          "output_type": "execute_result",
          "data": {
            "text/plain": [
              "10.0"
            ]
          },
          "metadata": {},
          "execution_count": 25
        }
      ]
    },
    {
      "cell_type": "code",
      "source": [
        "tf.reduce_sum(x, axis=0).eval()"
      ],
      "metadata": {
        "colab": {
          "base_uri": "https://localhost:8080/"
        },
        "id": "HOL3Nk3ypucK",
        "outputId": "ea8223f3-321b-4390-9e61-7eca0f01eeb8"
      },
      "execution_count": null,
      "outputs": [
        {
          "output_type": "execute_result",
          "data": {
            "text/plain": [
              "array([4., 6.], dtype=float32)"
            ]
          },
          "metadata": {},
          "execution_count": 26
        }
      ]
    },
    {
      "cell_type": "code",
      "source": [
        "tf.reduce_sum(x, axis=-1).eval()\n"
      ],
      "metadata": {
        "colab": {
          "base_uri": "https://localhost:8080/"
        },
        "id": "Zx_8DQqopxPn",
        "outputId": "8d9e53aa-1daa-42fb-c3ba-682c7837fcc7"
      },
      "execution_count": null,
      "outputs": [
        {
          "output_type": "execute_result",
          "data": {
            "text/plain": [
              "array([3., 7.], dtype=float32)"
            ]
          },
          "metadata": {},
          "execution_count": 27
        }
      ]
    },
    {
      "cell_type": "code",
      "source": [
        "tf.reduce_mean(tf.reduce_sum(x, axis=-1)).eval()"
      ],
      "metadata": {
        "colab": {
          "base_uri": "https://localhost:8080/"
        },
        "id": "i7iGlW0Npyvc",
        "outputId": "3345c737-498b-4a15-a170-3ff1d1ef627d"
      },
      "execution_count": null,
      "outputs": [
        {
          "output_type": "execute_result",
          "data": {
            "text/plain": [
              "5.0"
            ]
          },
          "metadata": {},
          "execution_count": 28
        }
      ]
    },
    {
      "cell_type": "markdown",
      "source": [
        "Argmax"
      ],
      "metadata": {
        "id": "h9boo7zKp_cv"
      }
    },
    {
      "cell_type": "code",
      "source": [
        "x = [[0, 1, 2],\n",
        "     [2, 1, 0]]\n",
        "tf.argmax(x, axis=0).eval()"
      ],
      "metadata": {
        "colab": {
          "base_uri": "https://localhost:8080/"
        },
        "id": "KHSzgV_8p2Cm",
        "outputId": "0b0b0cef-1161-4b8b-9ef0-7af6d37fc980"
      },
      "execution_count": null,
      "outputs": [
        {
          "output_type": "execute_result",
          "data": {
            "text/plain": [
              "array([1, 0, 0])"
            ]
          },
          "metadata": {},
          "execution_count": 29
        }
      ]
    },
    {
      "cell_type": "code",
      "source": [
        "tf.argmax(x, axis=1).eval()"
      ],
      "metadata": {
        "colab": {
          "base_uri": "https://localhost:8080/"
        },
        "id": "RJBCZbpoqDBh",
        "outputId": "504cb226-e195-4ba9-dc9e-28211bd8b888"
      },
      "execution_count": null,
      "outputs": [
        {
          "output_type": "execute_result",
          "data": {
            "text/plain": [
              "array([2, 0])"
            ]
          },
          "metadata": {},
          "execution_count": 30
        }
      ]
    },
    {
      "cell_type": "code",
      "source": [
        "tf.argmax(x, axis=-1).eval()"
      ],
      "metadata": {
        "colab": {
          "base_uri": "https://localhost:8080/"
        },
        "id": "6keafdILqItz",
        "outputId": "4c788ca1-540a-48d6-806f-7aa18aef144f"
      },
      "execution_count": null,
      "outputs": [
        {
          "output_type": "execute_result",
          "data": {
            "text/plain": [
              "array([2, 0])"
            ]
          },
          "metadata": {},
          "execution_count": 31
        }
      ]
    },
    {
      "cell_type": "markdown",
      "source": [
        "Reshape"
      ],
      "metadata": {
        "id": "QsO-BZhAqhTw"
      }
    },
    {
      "cell_type": "code",
      "source": [
        "t = np.array([[[0, 1, 2],\n",
        "               [3, 4, 5]],\n",
        "\n",
        "              [[6, 7, 8],\n",
        "               [9, 10, 11]]])\n",
        "t.shape\n",
        "# 가장 작은 []에서 원소의 개수 = 3\n",
        "# 두번째로 작은 []의 세트의 개수 = 2\n",
        "# 가장 큰 [] 묶음 = 2"
      ],
      "metadata": {
        "colab": {
          "base_uri": "https://localhost:8080/"
        },
        "id": "59gu5V7fqJnC",
        "outputId": "c24f8516-a7a8-44ab-842b-b7fab1aa5f69"
      },
      "execution_count": null,
      "outputs": [
        {
          "output_type": "execute_result",
          "data": {
            "text/plain": [
              "(2, 2, 3)"
            ]
          },
          "metadata": {},
          "execution_count": 32
        }
      ]
    },
    {
      "cell_type": "code",
      "source": [
        "tf.reshape(t, shape=[-1, 3]).eval() # 원소의 개수 3개로 알아서 reshape"
      ],
      "metadata": {
        "colab": {
          "base_uri": "https://localhost:8080/"
        },
        "id": "dsAl5ftMqk-U",
        "outputId": "87f451a4-03be-401d-8e41-931ccb44d7a5"
      },
      "execution_count": null,
      "outputs": [
        {
          "output_type": "execute_result",
          "data": {
            "text/plain": [
              "array([[ 0,  1,  2],\n",
              "       [ 3,  4,  5],\n",
              "       [ 6,  7,  8],\n",
              "       [ 9, 10, 11]])"
            ]
          },
          "metadata": {},
          "execution_count": 33
        }
      ]
    },
    {
      "cell_type": "code",
      "source": [
        "tf.reshape(t, shape=[-1, 1, 3]).eval()\n",
        "# 제일 안쪽 차원의 원소의 개수 = 3\n",
        "# 그 다음 차원의 원소의 개수 = 1\n",
        "# => 아래와 같이 2차원 배열 형성 [[ㅁ,ㅁ,ㅁ]]"
      ],
      "metadata": {
        "colab": {
          "base_uri": "https://localhost:8080/"
        },
        "id": "T7ekJegJq-bs",
        "outputId": "10466de6-e2b8-49d3-a797-a787a8162bd2"
      },
      "execution_count": null,
      "outputs": [
        {
          "output_type": "execute_result",
          "data": {
            "text/plain": [
              "array([[[ 0,  1,  2]],\n",
              "\n",
              "       [[ 3,  4,  5]],\n",
              "\n",
              "       [[ 6,  7,  8]],\n",
              "\n",
              "       [[ 9, 10, 11]]])"
            ]
          },
          "metadata": {},
          "execution_count": 34
        }
      ]
    },
    {
      "cell_type": "code",
      "source": [
        "tf.reshape(t, shape=[-1, 2, 3]).eval()\n",
        "# 제일 안쪽 차원의 원소의 개수 = 3\n",
        "# 그 다음 차원의 원소의 개수 = 1\n",
        "# => [ㅁ,ㅁ,ㅁ]가 두 세트 있음"
      ],
      "metadata": {
        "colab": {
          "base_uri": "https://localhost:8080/"
        },
        "id": "oUeObn1qrHcV",
        "outputId": "1081682f-2e0a-4834-a28e-1c4b0f6f380a"
      },
      "execution_count": null,
      "outputs": [
        {
          "output_type": "execute_result",
          "data": {
            "text/plain": [
              "array([[[ 0,  1,  2],\n",
              "        [ 3,  4,  5]],\n",
              "\n",
              "       [[ 6,  7,  8],\n",
              "        [ 9, 10, 11]]])"
            ]
          },
          "metadata": {},
          "execution_count": 35
        }
      ]
    },
    {
      "cell_type": "markdown",
      "source": [
        "Reshape (squeeze, expand)"
      ],
      "metadata": {
        "id": "XmM4NcXlsSAh"
      }
    },
    {
      "cell_type": "code",
      "source": [
        "tf.squeeze([[0], [1], [2]]).eval()\n",
        "# 쫙 펴준다."
      ],
      "metadata": {
        "colab": {
          "base_uri": "https://localhost:8080/"
        },
        "id": "k98iFZh4rdOB",
        "outputId": "edaa2f35-45ce-41e3-b3d0-ad7480e45cf3"
      },
      "execution_count": null,
      "outputs": [
        {
          "output_type": "execute_result",
          "data": {
            "text/plain": [
              "array([0, 1, 2], dtype=int32)"
            ]
          },
          "metadata": {},
          "execution_count": 36
        }
      ]
    },
    {
      "cell_type": "code",
      "source": [
        "tf.expand_dims([0, 1, 2], 1).eval()\n",
        "# 텐서의 shape 변환 , 차원 더하기"
      ],
      "metadata": {
        "colab": {
          "base_uri": "https://localhost:8080/"
        },
        "id": "cF5IMb2cskBM",
        "outputId": "26ffce67-18b4-4fbf-964a-e9b9af3abc80"
      },
      "execution_count": null,
      "outputs": [
        {
          "output_type": "execute_result",
          "data": {
            "text/plain": [
              "array([[0],\n",
              "       [1],\n",
              "       [2]], dtype=int32)"
            ]
          },
          "metadata": {},
          "execution_count": 37
        }
      ]
    },
    {
      "cell_type": "markdown",
      "source": [
        "One-hot"
      ],
      "metadata": {
        "id": "HuO5dOPUHzIb"
      }
    },
    {
      "cell_type": "code",
      "source": [
        "tf.one_hot([[0], [1], [2], [0]], depth=3).eval()\n",
        "# 0 = [1., 0., 0.]\n",
        "# 1 = [0., 1., 0.]\n",
        "# 2 = [0., 0., 1.] 로 변환 , depth 가 3 이라 []안에 세 원소 존재"
      ],
      "metadata": {
        "colab": {
          "base_uri": "https://localhost:8080/"
        },
        "id": "kBv6_sTcsneF",
        "outputId": "15e50eb9-dfd4-489d-d4f8-42286a338e30"
      },
      "execution_count": null,
      "outputs": [
        {
          "output_type": "execute_result",
          "data": {
            "text/plain": [
              "array([[[1., 0., 0.]],\n",
              "\n",
              "       [[0., 1., 0.]],\n",
              "\n",
              "       [[0., 0., 1.]],\n",
              "\n",
              "       [[1., 0., 0.]]], dtype=float32)"
            ]
          },
          "metadata": {},
          "execution_count": 38
        }
      ]
    },
    {
      "cell_type": "code",
      "source": [
        "t = tf.one_hot([[0], [1], [2], [0]], depth=3)\n",
        "tf.reshape(t, shape=[-1, 3]).eval()"
      ],
      "metadata": {
        "colab": {
          "base_uri": "https://localhost:8080/"
        },
        "id": "qU577KOZH3NU",
        "outputId": "7e2d400a-1fc8-4291-b528-678bed644b1d"
      },
      "execution_count": null,
      "outputs": [
        {
          "output_type": "execute_result",
          "data": {
            "text/plain": [
              "array([[1., 0., 0.],\n",
              "       [0., 1., 0.],\n",
              "       [0., 0., 1.],\n",
              "       [1., 0., 0.]], dtype=float32)"
            ]
          },
          "metadata": {},
          "execution_count": 39
        }
      ]
    },
    {
      "cell_type": "markdown",
      "source": [
        "Casting"
      ],
      "metadata": {
        "id": "D0UKVqarI3JZ"
      }
    },
    {
      "cell_type": "code",
      "source": [
        "tf.cast([1.8, 2.2, 3.3, 4.9], tf.int32).eval()"
      ],
      "metadata": {
        "colab": {
          "base_uri": "https://localhost:8080/"
        },
        "id": "eKOVfDIRI4Ed",
        "outputId": "a46ab5d8-352e-4886-a540-95eddf1df194"
      },
      "execution_count": null,
      "outputs": [
        {
          "output_type": "execute_result",
          "data": {
            "text/plain": [
              "array([1, 2, 3, 4], dtype=int32)"
            ]
          },
          "metadata": {},
          "execution_count": 40
        }
      ]
    },
    {
      "cell_type": "code",
      "source": [
        "tf.cast([True, False, 1 == 1, 0 == 1], tf.int32).eval()"
      ],
      "metadata": {
        "colab": {
          "base_uri": "https://localhost:8080/"
        },
        "id": "GheH--2kI7GI",
        "outputId": "a345b88a-3a68-4fef-ebdd-9893bde2c745"
      },
      "execution_count": null,
      "outputs": [
        {
          "output_type": "execute_result",
          "data": {
            "text/plain": [
              "array([1, 0, 1, 0], dtype=int32)"
            ]
          },
          "metadata": {},
          "execution_count": 41
        }
      ]
    },
    {
      "cell_type": "markdown",
      "source": [
        "Stack"
      ],
      "metadata": {
        "id": "IO7N6NqJJF9p"
      }
    },
    {
      "cell_type": "code",
      "source": [
        "x = [1, 4]\n",
        "y = [2, 5]\n",
        "z = [3, 6]\n",
        "\n",
        "# Pack along first dim.\n",
        "tf.stack([x, y, z]).eval()"
      ],
      "metadata": {
        "colab": {
          "base_uri": "https://localhost:8080/"
        },
        "id": "T2ZNmev3JGUk",
        "outputId": "99ff032e-d6f2-4336-b528-f6ccad3aa4e0"
      },
      "execution_count": null,
      "outputs": [
        {
          "output_type": "execute_result",
          "data": {
            "text/plain": [
              "array([[1, 4],\n",
              "       [2, 5],\n",
              "       [3, 6]], dtype=int32)"
            ]
          },
          "metadata": {},
          "execution_count": 42
        }
      ]
    },
    {
      "cell_type": "code",
      "source": [
        "tf.stack([x, y, z], axis=1).eval()"
      ],
      "metadata": {
        "colab": {
          "base_uri": "https://localhost:8080/"
        },
        "id": "dnUjIempJH3L",
        "outputId": "93f130c3-f3c7-449e-9c6d-d68c2118c195"
      },
      "execution_count": null,
      "outputs": [
        {
          "output_type": "execute_result",
          "data": {
            "text/plain": [
              "array([[1, 2, 3],\n",
              "       [4, 5, 6]], dtype=int32)"
            ]
          },
          "metadata": {},
          "execution_count": 43
        }
      ]
    },
    {
      "cell_type": "markdown",
      "source": [
        "Ones like and Zeros like"
      ],
      "metadata": {
        "id": "OQ8ULDK6JsJh"
      }
    },
    {
      "cell_type": "code",
      "source": [
        "x = [[0, 1, 2],\n",
        "     [2, 1, 0]]\n",
        "\n",
        "tf.ones_like(x).eval()\n",
        "# 같은 모양을 1로 채워줌"
      ],
      "metadata": {
        "colab": {
          "base_uri": "https://localhost:8080/"
        },
        "id": "j7DLqo8iJKXk",
        "outputId": "807e8cd2-ded2-4705-b23c-fbece969ba80"
      },
      "execution_count": null,
      "outputs": [
        {
          "output_type": "execute_result",
          "data": {
            "text/plain": [
              "array([[1, 1, 1],\n",
              "       [1, 1, 1]], dtype=int32)"
            ]
          },
          "metadata": {},
          "execution_count": 44
        }
      ]
    },
    {
      "cell_type": "code",
      "source": [
        "tf.zeros_like(x).eval()"
      ],
      "metadata": {
        "colab": {
          "base_uri": "https://localhost:8080/"
        },
        "id": "si-Kvux7Jp4v",
        "outputId": "5320f0e1-da8c-4758-a516-596ee52249d7"
      },
      "execution_count": null,
      "outputs": [
        {
          "output_type": "execute_result",
          "data": {
            "text/plain": [
              "array([[0, 0, 0],\n",
              "       [0, 0, 0]], dtype=int32)"
            ]
          },
          "metadata": {},
          "execution_count": 45
        }
      ]
    },
    {
      "cell_type": "code",
      "source": [
        "for x, y in zip([1, 2, 3], [4, 5, 6]):\n",
        "    print(x, y)"
      ],
      "metadata": {
        "colab": {
          "base_uri": "https://localhost:8080/"
        },
        "id": "GepeyLKUJwxJ",
        "outputId": "5de86110-0ee7-485c-9861-d456df2fc87a"
      },
      "execution_count": null,
      "outputs": [
        {
          "output_type": "stream",
          "name": "stdout",
          "text": [
            "1 4\n",
            "2 5\n",
            "3 6\n"
          ]
        }
      ]
    },
    {
      "cell_type": "code",
      "source": [
        "for x, y, z in zip([1, 2, 3], [4, 5, 6], [7, 8, 9]):\n",
        "    print(x, y, z)"
      ],
      "metadata": {
        "id": "LRdGVH4TJ0BS",
        "outputId": "d45ea8bc-e062-4788-8ce0-3b4fa5b6e380",
        "colab": {
          "base_uri": "https://localhost:8080/"
        }
      },
      "execution_count": null,
      "outputs": [
        {
          "output_type": "stream",
          "name": "stdout",
          "text": [
            "1 4 7\n",
            "2 5 8\n",
            "3 6 9\n"
          ]
        }
      ]
    }
  ]
}