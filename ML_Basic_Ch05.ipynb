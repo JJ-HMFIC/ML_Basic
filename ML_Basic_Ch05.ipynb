{
  "nbformat": 4,
  "nbformat_minor": 0,
  "metadata": {
    "colab": {
      "provenance": [],
      "authorship_tag": "ABX9TyMvjmMgYyVZZHv8wTPBis+j",
      "include_colab_link": true
    },
    "kernelspec": {
      "name": "python3",
      "display_name": "Python 3"
    },
    "language_info": {
      "name": "python"
    }
  },
  "cells": [
    {
      "cell_type": "markdown",
      "metadata": {
        "id": "view-in-github",
        "colab_type": "text"
      },
      "source": [
        "<a href=\"https://colab.research.google.com/github/JJ-HMFIC/ML_Basic/blob/main/ML_Basic_Ch05.ipynb\" target=\"_parent\"><img src=\"https://colab.research.google.com/assets/colab-badge.svg\" alt=\"Open In Colab\"/></a>"
      ]
    },
    {
      "cell_type": "markdown",
      "source": [
        "ch 05"
      ],
      "metadata": {
        "id": "B6oybniozJss"
      }
    },
    {
      "cell_type": "code",
      "source": [
        "import tensorflow.compat.v1 as tf\n",
        "tf.disable_v2_behavior()"
      ],
      "metadata": {
        "id": "YiAyiH3KzKlU",
        "colab": {
          "base_uri": "https://localhost:8080/"
        },
        "outputId": "a99062cd-2b05-4fa0-d288-2d46ae301f8e"
      },
      "execution_count": null,
      "outputs": [
        {
          "output_type": "stream",
          "name": "stderr",
          "text": [
            "WARNING:tensorflow:From /usr/local/lib/python3.10/dist-packages/tensorflow/python/compat/v2_compat.py:108: disable_resource_variables (from tensorflow.python.ops.variable_scope) is deprecated and will be removed in a future version.\n",
            "Instructions for updating:\n",
            "non-resource variables are not supported in the long term\n"
          ]
        }
      ]
    },
    {
      "cell_type": "code",
      "source": [
        "x_data = [[1, 2], [2, 3], [3, 1], [4, 3], [5, 3], [6, 2]]\n",
        "y_data = [[0], [0], [0], [1], [1], [1]] # classfication 에서 중요한 것은 data가 0 or 1 의 값을 가짐"
      ],
      "metadata": {
        "id": "zqUJ2Q5jCfCe"
      },
      "execution_count": null,
      "outputs": []
    },
    {
      "cell_type": "code",
      "source": [
        "X = tf.placeholder(tf.float32, shape=[None, 2]) # shape => noene: 데이터의 개수가 n개, 2:x1,x2 2개가 있음\n",
        "Y = tf.placeholder(tf.float32, shape=[None, 1])"
      ],
      "metadata": {
        "id": "oioW6TaxCnR6"
      },
      "execution_count": null,
      "outputs": []
    },
    {
      "cell_type": "code",
      "source": [
        "W = tf.Variable(tf.random_normal([2, 1]), name='weight')\n",
        "b = tf.Variable(tf.random_normal([1]), name='bias')"
      ],
      "metadata": {
        "id": "R60PaFxYDbJ9"
      },
      "execution_count": null,
      "outputs": []
    },
    {
      "cell_type": "code",
      "source": [
        "hypothesis = tf.sigmoid(tf.matmul(X, W) + b)"
      ],
      "metadata": {
        "id": "ogmnnDmzCqiU"
      },
      "execution_count": null,
      "outputs": []
    },
    {
      "cell_type": "code",
      "source": [
        "cost = -tf.reduce_mean(Y * tf.log(hypothesis) + (1 - Y) * tf.log(1 - hypothesis))\n",
        "# 크로스 엔트로피=> 손실함수"
      ],
      "metadata": {
        "id": "kl-UesVHDklU"
      },
      "execution_count": null,
      "outputs": []
    },
    {
      "cell_type": "code",
      "source": [
        "train = tf.train.GradientDescentOptimizer(learning_rate=0.01).minimize(cost)"
      ],
      "metadata": {
        "id": "O1hhKN3HEeHx"
      },
      "execution_count": null,
      "outputs": []
    },
    {
      "cell_type": "code",
      "source": [
        "# Accuracy computation\n",
        "# True if hypothesis>0.5 else False\n",
        "\n",
        "predicted = tf.cast(hypothesis>0.5, dtype=tf.float32)\n",
        "acc = tf.reduce_mean(tf.cast(tf.equal(predicted, Y), dtype=tf.float32))\n",
        "# equal => true : 1, false : 0 반환\n",
        "''' reduce_mean\n",
        " 주어진 축(axis)을 따라 텐서의 요소들을 평균내는 연산을 수행\n",
        " 각 행(axis=0) 또는 각 열(axis=1)의 평균을 구함\n",
        " '''\n"
      ],
      "metadata": {
        "id": "efankA0iE0wA"
      },
      "execution_count": null,
      "outputs": []
    },
    {
      "cell_type": "code",
      "source": [
        "#with tf.Session() as sess:\n",
        "sess = tf.Session()\n",
        "sess.run(tf.global_variables_initializer())\n",
        "\n",
        "for step in range(10001):\n",
        "  cost_val, _ = sess.run([cost, train], feed_dict={X: x_data, Y: y_data})\n",
        "  if step % 200 == 0:\n",
        "    print(step, cost_val)\n",
        "\n",
        "h, c, a = sess.run([hypothesis, predicted, acc],\n",
        "                   feed_dict={X: x_data, Y: y_data})\n",
        "print(\"\\nHypothesis: \", h, \"\\nCorrect (Y): \", c, \"\\nAccuracy: \", a)\n"
      ],
      "metadata": {
        "colab": {
          "base_uri": "https://localhost:8080/"
        },
        "id": "1sqUbvHcFR33",
        "outputId": "b4cf5d28-1773-4bba-a660-397d4d6586e6"
      },
      "execution_count": null,
      "outputs": [
        {
          "output_type": "stream",
          "name": "stdout",
          "text": [
            "0 0.40449047\n",
            "200 0.3312318\n",
            "400 0.3110943\n",
            "600 0.29728597\n",
            "800 0.2865968\n",
            "1000 0.2776186\n",
            "1200 0.26967892\n",
            "1400 0.26243398\n",
            "1600 0.25569695\n",
            "1800 0.2493604\n",
            "2000 0.24335842\n",
            "2200 0.23764797\n",
            "2400 0.23219925\n",
            "2600 0.22698964\n",
            "2800 0.22200151\n",
            "3000 0.21722005\n",
            "3200 0.21263254\n",
            "3400 0.20822753\n",
            "3600 0.20399489\n",
            "3800 0.19992517\n",
            "4000 0.19600964\n",
            "4200 0.19224013\n",
            "4400 0.18860924\n",
            "4600 0.18510985\n",
            "4800 0.18173529\n",
            "5000 0.17847939\n",
            "5200 0.17533635\n",
            "5400 0.17230059\n",
            "5600 0.16936707\n",
            "5800 0.16653094\n",
            "6000 0.16378756\n",
            "6200 0.16113262\n",
            "6400 0.15856214\n",
            "6600 0.15607226\n",
            "6800 0.15365934\n",
            "7000 0.15132006\n",
            "7200 0.14905107\n",
            "7400 0.14684947\n",
            "7600 0.14471234\n",
            "7800 0.14263691\n",
            "8000 0.1406207\n",
            "8200 0.13866116\n",
            "8400 0.13675599\n",
            "8600 0.13490297\n",
            "8800 0.13310023\n",
            "9000 0.13134558\n",
            "9200 0.12963723\n",
            "9400 0.12797332\n",
            "9600 0.1263523\n",
            "9800 0.12477243\n",
            "10000 0.12323224\n",
            "\n",
            "Hypothesis:  [[0.02051985]\n",
            " [0.1421346 ]\n",
            " [0.2514047 ]\n",
            " [0.8069992 ]\n",
            " [0.9545566 ]\n",
            " [0.98530036]] \n",
            "Correct (Y):  [[0.]\n",
            " [0.]\n",
            " [0.]\n",
            " [1.]\n",
            " [1.]\n",
            " [1.]] \n",
            "Accuracy:  1.0\n"
          ]
        }
      ]
    },
    {
      "cell_type": "code",
      "source": [
        "import pandas as pd\n",
        "xy = pd.read_csv(\"/content/drive/MyDrive/Colab Notebooks/data-03-diabetes.csv\")"
      ],
      "metadata": {
        "id": "5tV8DzVPIJ2Z"
      },
      "execution_count": null,
      "outputs": []
    },
    {
      "cell_type": "code",
      "source": [
        "import numpy as np\n",
        "xy = np.loadtxt('/content/drive/MyDrive/Colab Notebooks/data-03-diabetes.csv', delimiter=',', dtype=np.float32)\n",
        "x_data = xy[:, 0:-1]\n",
        "y_data = xy[:, [-1]]"
      ],
      "metadata": {
        "id": "gDIFhuAwKOQp"
      },
      "execution_count": null,
      "outputs": []
    },
    {
      "cell_type": "code",
      "source": [
        "# placeholders for a tensor that will be always fed.\n",
        "X = tf.placeholder(tf.float32, shape=[None, 8])\n",
        "Y = tf.placeholder(tf.float32, shape=[None, 1])\n",
        "\n",
        "W = tf.Variable(tf.random_normal([8, 1]), name='weight')\n",
        "b = tf.Variable(tf.random_normal([1]), name='bias')\n",
        "\n",
        "# Hypothesis using sigmoid: tf.div(1., 1. + tf.exp(tf.matmul(X, W)))\n",
        "hypothesis = tf.sigmoid(tf.matmul(X, W) + b)\n",
        "# cost/loss function\n",
        "cost = -tf.reduce_mean(Y * tf.log(hypothesis) + (1 - Y) * tf.log(1 - hypothesis))\n",
        "train = tf.train.GradientDescentOptimizer(learning_rate=0.01).minimize(cost)\n",
        "\n",
        "# Accuracy computation\n",
        "# True if hypothesis>0.5 else False\n",
        "predicted = tf.cast(hypothesis > 0.5, dtype=tf.float32)\n",
        "accuracy = tf.reduce_mean(tf.cast(tf.equal(predicted, Y), dtype=tf.float32))\n",
        "\n",
        "# Launch graph\n",
        "with tf.Session() as sess:\n",
        "   sess.run(tf.global_variables_initializer())\n",
        "\n",
        "   feed = {X: x_data, Y: y_data}\n",
        "   for step in range(10001):\n",
        "       sess.run(train, feed_dict=feed)\n",
        "       if step % 200 == 0:\n",
        "           print(step, sess.run(cost, feed_dict=feed))\n",
        "\n",
        "   # Accuracy report\n",
        "   h, c, a = sess.run([hypothesis, predicted, accuracy], feed_dict=feed)\n",
        "   print(\"\\nHypothesis: \", h, \"\\nCorrect (Y): \", c, \"\\nAccuracy: \", a)\n"
      ],
      "metadata": {
        "id": "JZ_a64BuKdgQ"
      },
      "execution_count": null,
      "outputs": []
    }
  ]
}