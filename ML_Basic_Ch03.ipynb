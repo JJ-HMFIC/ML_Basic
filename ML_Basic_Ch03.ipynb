{
  "nbformat": 4,
  "nbformat_minor": 0,
  "metadata": {
    "colab": {
      "provenance": [],
      "authorship_tag": "ABX9TyMgw34JbR6K1Ot99PpeCLn7",
      "include_colab_link": true
    },
    "kernelspec": {
      "name": "python3",
      "display_name": "Python 3"
    },
    "language_info": {
      "name": "python"
    }
  },
  "cells": [
    {
      "cell_type": "markdown",
      "metadata": {
        "id": "view-in-github",
        "colab_type": "text"
      },
      "source": [
        "<a href=\"https://colab.research.google.com/github/JJ-HMFIC/ML_Basic/blob/main/ML_Basic_Ch03.ipynb\" target=\"_parent\"><img src=\"https://colab.research.google.com/assets/colab-badge.svg\" alt=\"Open In Colab\"/></a>"
      ]
    },
    {
      "cell_type": "markdown",
      "source": [
        "chapter 3\n"
      ],
      "metadata": {
        "id": "Vrhk9ptsN3wr"
      }
    },
    {
      "cell_type": "code",
      "source": [
        "import tensorflow as tf\n",
        "import matplotlib.pyplot as plt"
      ],
      "metadata": {
        "id": "rvgqD9owN6qi"
      },
      "execution_count": null,
      "outputs": []
    },
    {
      "cell_type": "code",
      "source": [
        "X = [1,2,3]\n",
        "Y = [1,2,3]"
      ],
      "metadata": {
        "id": "_fxx2O9LgUfj"
      },
      "execution_count": null,
      "outputs": []
    },
    {
      "cell_type": "code",
      "source": [
        "W = tf.placeholder(tf.float32)"
      ],
      "metadata": {
        "colab": {
          "base_uri": "https://localhost:8080/",
          "height": 184
        },
        "id": "-X-MUhubneSu",
        "outputId": "db740b04-6110-40e7-e220-213377e94819"
      },
      "execution_count": null,
      "outputs": [
        {
          "output_type": "error",
          "ename": "AttributeError",
          "evalue": "module 'tensorflow' has no attribute 'placeholder'",
          "traceback": [
            "\u001b[0;31m---------------------------------------------------------------------------\u001b[0m",
            "\u001b[0;31mAttributeError\u001b[0m                            Traceback (most recent call last)",
            "\u001b[0;32m<ipython-input-4-9164d8bc93f1>\u001b[0m in \u001b[0;36m<cell line: 1>\u001b[0;34m()\u001b[0m\n\u001b[0;32m----> 1\u001b[0;31m \u001b[0mW\u001b[0m \u001b[0;34m=\u001b[0m \u001b[0mtf\u001b[0m\u001b[0;34m.\u001b[0m\u001b[0mplaceholder\u001b[0m\u001b[0;34m(\u001b[0m\u001b[0mtf\u001b[0m\u001b[0;34m.\u001b[0m\u001b[0mfloat32\u001b[0m\u001b[0;34m)\u001b[0m\u001b[0;34m\u001b[0m\u001b[0;34m\u001b[0m\u001b[0m\n\u001b[0m",
            "\u001b[0;31mAttributeError\u001b[0m: module 'tensorflow' has no attribute 'placeholder'"
          ]
        }
      ]
    },
    {
      "cell_type": "code",
      "source": [
        "import tensorflow.compat.v1 as tf\n",
        "tf.disable_v2_behavior()"
      ],
      "metadata": {
        "id": "06L9bS22nhsK",
        "colab": {
          "base_uri": "https://localhost:8080/"
        },
        "outputId": "a397a809-9063-4906-9c4e-2af9d77b784a"
      },
      "execution_count": null,
      "outputs": [
        {
          "output_type": "stream",
          "name": "stderr",
          "text": [
            "WARNING:tensorflow:From /usr/local/lib/python3.10/dist-packages/tensorflow/python/compat/v2_compat.py:108: disable_resource_variables (from tensorflow.python.ops.variable_scope) is deprecated and will be removed in a future version.\n",
            "Instructions for updating:\n",
            "non-resource variables are not supported in the long term\n"
          ]
        }
      ]
    },
    {
      "cell_type": "code",
      "source": [
        "W = tf.placeholder(tf.float32)"
      ],
      "metadata": {
        "id": "KpYmP72JnvVN"
      },
      "execution_count": null,
      "outputs": []
    },
    {
      "cell_type": "code",
      "source": [
        "hypothesis = X * W # H(x) = Wx"
      ],
      "metadata": {
        "id": "l6ZViYZOnwEb"
      },
      "execution_count": null,
      "outputs": []
    },
    {
      "cell_type": "code",
      "source": [
        "cost = tf.reduce_mean(tf.square(hypothesis-Y)) #cost/Lost function\n",
        "sess = tf.Session() # 그래프의 전역변수 초기화\n",
        "sess.run(tf.global_variables_initializer())"
      ],
      "metadata": {
        "id": "2GjJgq5nnzH0"
      },
      "execution_count": null,
      "outputs": []
    },
    {
      "cell_type": "code",
      "source": [
        "W_val = []\n",
        "cost_val = []"
      ],
      "metadata": {
        "id": "wNXVj8UJoBVx"
      },
      "execution_count": null,
      "outputs": []
    },
    {
      "cell_type": "code",
      "source": [
        "# 변수 플로팅\n",
        "for i in range(-30,50):\n",
        "  feed_W = i*0.1\n",
        "  curr_cost, curr_W = sess.run([cost,W],feed_dict={W: feed_W})\n",
        "  # feed_dict는 세션 실행 중에 계산 그래프에 데이터를 공급하는 데 사용되는 메커니즘\n",
        "  # feed_dict는 placeholder(W)를 실제 값(feed_W)에 매핑하는 데 사용된다\n",
        "  W_val.append(curr_W)\n",
        "  cost_val.append(curr_cost)\n",
        "# 값이 변하는 것을 담고있음"
      ],
      "metadata": {
        "id": "SGlecIkZohmP"
      },
      "execution_count": null,
      "outputs": []
    },
    {
      "cell_type": "code",
      "source": [
        "plt.plot(W_val, cost_val)\n",
        "plt.show()"
      ],
      "metadata": {
        "colab": {
          "base_uri": "https://localhost:8080/",
          "height": 430
        },
        "id": "PvHNtiFio6Rm",
        "outputId": "e8c1e09e-8507-47ad-b769-96ccdd7d4955"
      },
      "execution_count": null,
      "outputs": [
        {
          "output_type": "display_data",
          "data": {
            "text/plain": [
              "<Figure size 640x480 with 1 Axes>"
            ],
            "image/png": "[encoded data removed]"
          },
          "metadata": {}
        }
      ]
    },
    {
      "cell_type": "code",
      "source": [
        "x_data = [1, 2, 3]\n",
        "y_data = [1, 2, 3]"
      ],
      "metadata": {
        "id": "77lDKXtTqA1h"
      },
      "execution_count": null,
      "outputs": []
    },
    {
      "cell_type": "code",
      "source": [
        "W = tf.Variable(tf.random_normal([1], name='weight'))\n",
        "X = tf.placeholder(tf.float32)\n",
        "Y = tf.placeholder(tf.float32)"
      ],
      "metadata": {
        "id": "ePUiXQxtrw-x"
      },
      "execution_count": null,
      "outputs": []
    },
    {
      "cell_type": "code",
      "source": [
        "hypothesis = X * W"
      ],
      "metadata": {
        "id": "S5mJ5QnXsblP"
      },
      "execution_count": null,
      "outputs": []
    },
    {
      "cell_type": "code",
      "source": [
        "cost = tf.reduce_sum(tf.square*(hypothesis - Y))"
      ],
      "metadata": {
        "id": "a6pl-kMyseHW"
      },
      "execution_count": null,
      "outputs": []
    },
    {
      "cell_type": "code",
      "source": [
        "learning_rate = 0.1\n",
        "gradient = tf.reduce_mean((W * X - Y) * X)\n",
        "descent = W - learning_rate * gradient\n",
        "update = W.assign(descent)"
      ],
      "metadata": {
        "id": "Qre5DYuVsz_t"
      },
      "execution_count": null,
      "outputs": []
    },
    {
      "cell_type": "code",
      "source": [
        "sess = tf.Session()\n",
        "sess.run(tf.global_variables_initializer())"
      ],
      "metadata": {
        "id": "_l8YZSWBs9eE"
      },
      "execution_count": null,
      "outputs": []
    },
    {
      "cell_type": "code",
      "source": [
        "for step in range(21):\n",
        "  sess.run(update, feed_dict={X:x_data,Y:y_data})\n",
        "  print(step, sess.run(cost, feed_dict={X:x_data,Y:y_data}),sess.run(W))\n",
        "  #step / cost / W"
      ],
      "metadata": {
        "colab": {
          "base_uri": "https://localhost:8080/"
        },
        "id": "c6HvzcY1tDmT",
        "outputId": "36f22bef-2365-462a-f400-8e2cdd0d77c5"
      },
      "execution_count": null,
      "outputs": [
        {
          "output_type": "stream",
          "name": "stdout",
          "text": [
            "0 -3.9979591 [0.14329451]\n",
            "1 -2.1322446 [0.54309046]\n",
            "2 -1.137197 [0.75631493]\n",
            "3 -0.6065051 [0.87003464]\n",
            "4 -0.32346913 [0.93068516]\n",
            "5 -0.17251696 [0.96303207]\n",
            "6 -0.092009224 [0.98028374]\n",
            "7 -0.04907167 [0.98948467]\n",
            "8 -0.026171386 [0.99439186]\n",
            "9 -0.013958156 [0.997009]\n",
            "10 -0.007444203 [0.9984048]\n",
            "11 -0.003970504 [0.9991492]\n",
            "12 -0.0021176536 [0.99954623]\n",
            "13 -0.0011293093 [0.999758]\n",
            "14 -0.0006022652 [0.99987096]\n",
            "15 -0.00032120943 [0.99993116]\n",
            "16 -0.00017134349 [0.9999633]\n",
            "17 -9.1572605e-05 [0.9999804]\n",
            "18 -4.8617523e-05 [0.99998957]\n",
            "19 -2.592802e-05 [0.99999446]\n",
            "20 -1.4026959e-05 [0.999997]\n"
          ]
        }
      ]
    },
    {
      "cell_type": "code",
      "source": [
        "# optimizer = tf.train.GradientDescentOptimizer(learning_rate=0.1)\n",
        "# train = optimizer.minimize(cost)"
      ],
      "metadata": {
        "id": "f_7acwd9vPEg"
      },
      "execution_count": null,
      "outputs": []
    },
    {
      "cell_type": "code",
      "source": [
        "X = [1, 2, 3]\n",
        "Y = [1, 2, 3]\n",
        "# Set wrong model weights\n",
        "W = tf.Variable(5.0)\n",
        "# Linear model\n",
        "hypothesis = X * W\n",
        "# cost/loss function\n",
        "cost = tf.reduce_mean(tf.square(hypothesis - Y))\n",
        "# Minimize: Gradient Descent Magic\n",
        "optimizer = tf.train.GradientDescentOptimizer(learning_rate=0.1) # 경사하강법 메소드 사용\n",
        "train = optimizer.minimize(cost)\n",
        "# Launch the graph in a session.\n",
        "sess = tf.Session()\n",
        "# Initializes global variables in the graph.\n",
        "sess.run(tf.global_variables_initializer())\n",
        "for step in range(20):\n",
        " print(step, sess.run(W))\n",
        " sess.run(train)"
      ],
      "metadata": {
        "colab": {
          "base_uri": "https://localhost:8080/"
        },
        "id": "9uYYgVM4vn76",
        "outputId": "1b948484-9f23-421f-b1d1-02d749d1a61a"
      },
      "execution_count": null,
      "outputs": [
        {
          "output_type": "stream",
          "name": "stdout",
          "text": [
            "0 5.0\n",
            "1 1.2666664\n",
            "2 1.0177778\n",
            "3 1.0011852\n",
            "4 1.000079\n",
            "5 1.0000052\n",
            "6 1.0000004\n",
            "7 1.0\n",
            "8 1.0\n",
            "9 1.0\n",
            "10 1.0\n",
            "11 1.0\n",
            "12 1.0\n",
            "13 1.0\n",
            "14 1.0\n",
            "15 1.0\n",
            "16 1.0\n",
            "17 1.0\n",
            "18 1.0\n",
            "19 1.0\n"
          ]
        }
      ]
    },
    {
      "cell_type": "code",
      "source": [
        "X = [1, 2, 3]\n",
        "Y = [1, 2, 3]\n",
        "# Set wrong model weights\n",
        "W = tf.Variable(5.)\n",
        "# Linear model\n",
        "hypothesis = X * W\n",
        "# Manual gradient\n",
        "gradient = tf.reduce_mean((W * X - Y) * X) * 2\n",
        "# cost/loss function\n",
        "cost = tf.reduce_mean(tf.square(hypothesis - Y))\n",
        "optimizer = tf.train.GradientDescentOptimizer(learning_rate=0.01)"
      ],
      "metadata": {
        "id": "6nmvMfe2vu60"
      },
      "execution_count": null,
      "outputs": []
    },
    {
      "cell_type": "code",
      "source": [
        "# Get gradients\n",
        "gvs = optimizer.compute_gradients(cost, [W]) # Gradient 계산()"
      ],
      "metadata": {
        "id": "5zKO8IEPv68W"
      },
      "execution_count": null,
      "outputs": []
    },
    {
      "cell_type": "code",
      "source": [
        "apply_gradients = optimizer.apply_gradients(gvs)\n",
        "# Gradient 계산한 값(임의 설정=gvs)을 optimizer에 반영하는 법\n",
        "# gvs를 임의로 설정하면 gradient 변경 가능\n",
        "# 여기선 그냥 minimize와 같음 (위의 문제와 같음)"
      ],
      "metadata": {
        "id": "JKlcIQ69v_E8"
      },
      "execution_count": null,
      "outputs": []
    },
    {
      "cell_type": "code",
      "source": [
        "sess = tf.Session()\n",
        "sess.run(tf.global_variables_initializer())\n",
        "for step in range(20):\n",
        " print(step, sess.run([gradient, W, gvs]))\n",
        " sess.run(apply_gradients)\n",
        "#step / gradient / W / (gradient , W)"
      ],
      "metadata": {
        "colab": {
          "base_uri": "https://localhost:8080/"
        },
        "id": "FVVh5jrTwFii",
        "outputId": "6d619a13-bf35-4318-934a-933d46631e04"
      },
      "execution_count": null,
      "outputs": [
        {
          "output_type": "stream",
          "name": "stdout",
          "text": [
            "0 [37.333332, 5.0, [(37.333336, 5.0)]]\n",
            "1 [33.84889, 4.6266665, [(33.84889, 4.6266665)]]\n",
            "2 [30.689657, 4.2881775, [(30.689657, 4.2881775)]]\n",
            "3 [27.825287, 3.9812808, [(27.825287, 3.9812808)]]\n",
            "4 [25.228262, 3.703028, [(25.228262, 3.703028)]]\n",
            "5 [22.873621, 3.4507453, [(22.873623, 3.4507453)]]\n",
            "6 [20.738752, 3.2220092, [(20.73875, 3.2220092)]]\n",
            "7 [18.803137, 3.0146217, [(18.803137, 3.0146217)]]\n",
            "8 [17.048176, 2.8265903, [(17.048176, 2.8265903)]]\n",
            "9 [15.457013, 2.6561086, [(15.457014, 2.6561086)]]\n",
            "10 [14.014359, 2.5015385, [(14.01436, 2.5015385)]]\n",
            "11 [12.706352, 2.361395, [(12.706352, 2.361395)]]\n",
            "12 [11.520427, 2.2343314, [(11.520427, 2.2343314)]]\n",
            "13 [10.445186, 2.119127, [(10.445185, 2.119127)]]\n",
            "14 [9.470302, 2.0146751, [(9.470302, 2.0146751)]]\n",
            "15 [8.586407, 1.9199722, [(8.586407, 1.9199722)]]\n",
            "16 [7.785009, 1.8341081, [(7.785009, 1.8341081)]]\n",
            "17 [7.0584083, 1.756258, [(7.0584083, 1.756258)]]\n",
            "18 [6.399624, 1.685674, [(6.399624, 1.685674)]]\n",
            "19 [5.8023257, 1.6216778, [(5.8023252, 1.6216778)]]\n"
          ]
        }
      ]
    }
  ]
}