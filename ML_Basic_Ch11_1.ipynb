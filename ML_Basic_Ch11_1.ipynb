{
  "nbformat": 4,
  "nbformat_minor": 0,
  "metadata": {
    "colab": {
      "provenance": [],
      "authorship_tag": "ABX9TyMKaj7cKn0VDF6bCxSYgARd",
      "include_colab_link": true
    },
    "kernelspec": {
      "name": "python3",
      "display_name": "Python 3"
    },
    "language_info": {
      "name": "python"
    }
  },
  "cells": [
    {
      "cell_type": "markdown",
      "metadata": {
        "id": "view-in-github",
        "colab_type": "text"
      },
      "source": [
        "<a href=\"https://colab.research.google.com/github/JJ-HMFIC/ML_Basic/blob/main/ML_Basic_Ch11_1.ipynb\" target=\"_parent\"><img src=\"https://colab.research.google.com/assets/colab-badge.svg\" alt=\"Open In Colab\"/></a>"
      ]
    },
    {
      "cell_type": "markdown",
      "source": [
        "ch 11"
      ],
      "metadata": {
        "id": "laMQAZSKvimq"
      }
    },
    {
      "cell_type": "code",
      "source": [
        "import numpy as np\n",
        "import tensorflow as tf\n",
        "import random"
      ],
      "metadata": {
        "id": "oFRZCtOzuswm"
      },
      "execution_count": null,
      "outputs": []
    },
    {
      "cell_type": "code",
      "source": [
        "mnist = tf.keras.datasets.mnist"
      ],
      "metadata": {
        "id": "-qL5eA5eYx8X"
      },
      "execution_count": null,
      "outputs": []
    },
    {
      "cell_type": "code",
      "source": [
        "(x_train, y_train), (x_test, y_test) = mnist.load_data()\n",
        "x_test = x_test / 255\n",
        "x_train = x_train / 255\n",
        "x_train = x_train.reshape(x_train.shape[0], 28, 28, 1)\n",
        "x_test = x_test.reshape(x_test.shape[0], 28, 28, 1)\n",
        "# reshape(x_train.shape[0], 28, 28, 1)\n",
        "# x_train.shape[0]: 첫 번째 차원의 크기를 나타냅니다. 보통 이미지의 개수를 나타내는 차원\n",
        "# 28: 두 번째 차원의 크기로, 이미지의 높이(또는 행)입니다.\n",
        "# 28: 세 번째 차원의 크기로, 이미지의 너비(또는 열)입니다.\n",
        "# 1: 네 번째 차원의 크기로, 이미지의 채널 수를 나타냅니다. 여기서는 흑백 이미지이므로 채널이 1개입니다.\n",
        "\n"
      ],
      "metadata": {
        "id": "sHRkgsItYy3H"
      },
      "execution_count": null,
      "outputs": []
    },
    {
      "cell_type": "code",
      "source": [
        "# one hot encode y data\n",
        "y_train = tf.keras.utils.to_categorical(y_train, 10)\n",
        "y_test = tf.keras.utils.to_categorical(y_test, 10)"
      ],
      "metadata": {
        "id": "hUfr0a9qZdKe"
      },
      "execution_count": null,
      "outputs": []
    },
    {
      "cell_type": "code",
      "source": [
        "# hyper parameters\n",
        "learning_rate = 0.001\n",
        "training_epochs = 12\n",
        "batch_size = 128"
      ],
      "metadata": {
        "id": "2af8Z8GoZgWS"
      },
      "execution_count": null,
      "outputs": []
    },
    {
      "cell_type": "code",
      "source": [
        "model = tf.keras.Sequential()\n",
        "#L1\n",
        "model.add(tf.keras.layers.Conv2D(filters=16, kernel_size=(3, 3), input_shape=(28, 28, 1), activation='relu'))\n",
        "# filters=16 : 필터의 개수 16개\n",
        "# kernel_size=(3, 3) : 한 필터의 사이즈 3*3\n",
        "# input_shape=(28, 28, 1) : 입력 데이터 형태, 높이 너비 채널\n",
        "# 활성화 함수 relu\n",
        "model.add(tf.keras.layers.MaxPooling2D(pool_size=(2, 2)))\n",
        "# pool_size=(2, 2): MaxPooling을 수행할 때 사용되는 윈도우(2x2 크기)의 크기를 나타냄\n",
        "# 2x2 윈도우 내에서 최대값을 추출함"
      ],
      "metadata": {
        "id": "__l8yWKnZjAE"
      },
      "execution_count": null,
      "outputs": []
    },
    {
      "cell_type": "code",
      "source": [
        "# L2\n",
        "model.add(tf.keras.layers.Conv2D(filters=32, kernel_size=(3, 3), activation='relu'))\n",
        "model.add(tf.keras.layers.MaxPooling2D(pool_size=(2, 2)))"
      ],
      "metadata": {
        "id": "9LFNd3DgaYXY"
      },
      "execution_count": null,
      "outputs": []
    },
    {
      "cell_type": "code",
      "source": [
        "# L3 fully connected\n",
        "model.add(tf.keras.layers.Flatten())\n",
        "model.add(tf.keras.layers.Dense(units=10, kernel_initializer='glorot_normal', activation='softmax'))"
      ],
      "metadata": {
        "id": "et8BGVWdab8u"
      },
      "execution_count": null,
      "outputs": []
    },
    {
      "cell_type": "code",
      "source": [
        "model.compile(loss='categorical_crossentropy', optimizer='adam', metrics=['accuracy'])\n",
        "model.summary()\n",
        "\n",
        "history = model.fit(x_train, y_train, batch_size=batch_size, epochs=training_epochs)"
      ],
      "metadata": {
        "colab": {
          "base_uri": "https://localhost:8080/"
        },
        "id": "S3Hp_4fAafOg",
        "outputId": "1a2bd77b-bba7-4744-b034-11ec867865b4"
      },
      "execution_count": null,
      "outputs": [
        {
          "output_type": "stream",
          "name": "stdout",
          "text": [
            "Model: \"sequential_1\"\n",
            "_________________________________________________________________\n",
            " Layer (type)                Output Shape              Param #   \n",
            "=================================================================\n",
            " conv2d_2 (Conv2D)           (None, 26, 26, 16)        160       \n",
            "                                                                 \n",
            " max_pooling2d_2 (MaxPoolin  (None, 13, 13, 16)        0         \n",
            " g2D)                                                            \n",
            "                                                                 \n",
            " conv2d_3 (Conv2D)           (None, 11, 11, 32)        4640      \n",
            "                                                                 \n",
            " max_pooling2d_3 (MaxPoolin  (None, 5, 5, 32)          0         \n",
            " g2D)                                                            \n",
            "                                                                 \n",
            " flatten_1 (Flatten)         (None, 800)               0         \n",
            "                                                                 \n",
            " dense_1 (Dense)             (None, 10)                8010      \n",
            "                                                                 \n",
            "=================================================================\n",
            "Total params: 12810 (50.04 KB)\n",
            "Trainable params: 12810 (50.04 KB)\n",
            "Non-trainable params: 0 (0.00 Byte)\n",
            "_________________________________________________________________\n",
            "Epoch 1/12\n",
            "469/469 [==============================] - 14s 27ms/step - loss: 0.3587 - accuracy: 0.8997\n",
            "Epoch 2/12\n",
            "469/469 [==============================] - 13s 28ms/step - loss: 0.0942 - accuracy: 0.9719\n",
            "Epoch 3/12\n",
            "469/469 [==============================] - 13s 27ms/step - loss: 0.0704 - accuracy: 0.9786\n",
            "Epoch 4/12\n",
            "469/469 [==============================] - 13s 27ms/step - loss: 0.0566 - accuracy: 0.9832\n",
            "Epoch 5/12\n",
            "469/469 [==============================] - 13s 28ms/step - loss: 0.0488 - accuracy: 0.9855\n",
            "Epoch 6/12\n",
            "469/469 [==============================] - 13s 27ms/step - loss: 0.0432 - accuracy: 0.9864\n",
            "Epoch 7/12\n",
            "469/469 [==============================] - 13s 27ms/step - loss: 0.0377 - accuracy: 0.9888\n",
            "Epoch 8/12\n",
            "469/469 [==============================] - 13s 27ms/step - loss: 0.0350 - accuracy: 0.9892\n",
            "Epoch 9/12\n",
            "469/469 [==============================] - 13s 27ms/step - loss: 0.0313 - accuracy: 0.9903\n",
            "Epoch 10/12\n",
            "469/469 [==============================] - 13s 27ms/step - loss: 0.0287 - accuracy: 0.9912\n",
            "Epoch 11/12\n",
            "469/469 [==============================] - 13s 27ms/step - loss: 0.0267 - accuracy: 0.9917\n",
            "Epoch 12/12\n",
            "469/469 [==============================] - 13s 28ms/step - loss: 0.0245 - accuracy: 0.9923\n"
          ]
        }
      ]
    },
    {
      "cell_type": "code",
      "source": [
        "evaluation = model.evaluate(x_test, y_test)\n",
        "print('loss: ', evaluation[0])\n",
        "print('accuracy', evaluation[1])"
      ],
      "metadata": {
        "colab": {
          "base_uri": "https://localhost:8080/"
        },
        "id": "mCG2V9Qnanps",
        "outputId": "cc37d8bc-cf36-40df-c420-39e123867583"
      },
      "execution_count": null,
      "outputs": [
        {
          "output_type": "stream",
          "name": "stdout",
          "text": [
            "313/313 [==============================] - 2s 6ms/step - loss: 0.0339 - accuracy: 0.9892\n",
            "loss:  0.03388335555791855\n",
            "accuracy 0.9891999959945679\n"
          ]
        }
      ]
    }
  ]
}