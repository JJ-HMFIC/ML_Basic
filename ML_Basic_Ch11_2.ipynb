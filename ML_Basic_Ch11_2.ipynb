{
  "nbformat": 4,
  "nbformat_minor": 0,
  "metadata": {
    "colab": {
      "provenance": [],
      "authorship_tag": "ABX9TyNWGj8QR4D6ddV+BH8er/ea",
      "include_colab_link": true
    },
    "kernelspec": {
      "name": "python3",
      "display_name": "Python 3"
    },
    "language_info": {
      "name": "python"
    }
  },
  "cells": [
    {
      "cell_type": "markdown",
      "metadata": {
        "id": "view-in-github",
        "colab_type": "text"
      },
      "source": [
        "<a href=\"https://colab.research.google.com/github/JJ-HMFIC/ML_Basic/blob/main/ML_Basic_Ch11_2.ipynb\" target=\"_parent\"><img src=\"https://colab.research.google.com/assets/colab-badge.svg\" alt=\"Open In Colab\"/></a>"
      ]
    },
    {
      "cell_type": "markdown",
      "source": [
        "11-2 Deep CNN"
      ],
      "metadata": {
        "id": "8W45ekZLd2PO"
      }
    },
    {
      "cell_type": "code",
      "source": [
        "from tensorflow.keras import layers, models, datasets\n",
        "\n",
        "# Set random seed for reproducibility\n",
        "tf.random.set_seed(777)\n",
        "\n",
        "# Load MNIST dataset\n",
        "mnist = datasets.mnist\n",
        "(train_images, train_labels), (test_images, test_labels) = mnist.load_data()\n",
        "\n",
        "# Normalize pixel values to be between 0 and 1\n",
        "train_images, test_images = train_images / 255.0, test_images / 255.0\n",
        "\n",
        "# Add a channel dimension to the images\n",
        "train_images = train_images[..., tf.newaxis]\n",
        "test_images = test_images[..., tf.newaxis]\n",
        "\n",
        "# One-hot encode the labels\n",
        "train_labels = tf.keras.utils.to_categorical(train_labels, 10)\n",
        "test_labels = tf.keras.utils.to_categorical(test_labels, 10)\n",
        "\n",
        "# Hyperparameters\n",
        "learning_rate = 0.001\n",
        "training_epochs = 15\n",
        "batch_size = 100\n",
        "\n",
        "# Create the model\n",
        "model = models.Sequential()\n",
        "\n",
        "# L1\n",
        "model.add(layers.Conv2D(filters=32, kernel_size=(3, 3), input_shape=(28, 28, 1), activation='relu'))\n",
        "model.add(layers.MaxPooling2D(pool_size=(2, 2)))\n",
        "\n",
        "# L2\n",
        "model.add(layers.Conv2D(filters=64, kernel_size=(3, 3), activation='relu'))\n",
        "model.add(layers.MaxPooling2D(pool_size=(2, 2)))\n",
        "\n",
        "# L3 fully connected\n",
        "model.add(layers.Flatten())\n",
        "model.add(layers.Dense(units=625, kernel_initializer=tf.keras.initializers.GlorotNormal(), activation='relu'))\n",
        "model.add(layers.Dropout(0.5)) # dropout 적용 ★\n",
        "\n",
        "# L4 Final FC\n",
        "model.add(layers.Dense(units=10, kernel_initializer=tf.keras.initializers.GlorotNormal(), activation='softmax'))\n",
        "\n",
        "# Compile the model\n",
        "model.compile(optimizer=tf.optimizers.Adam(learning_rate),\n",
        "              loss='categorical_crossentropy',\n",
        "              metrics=['accuracy'])\n",
        "\n",
        "# Train the model\n",
        "print('Learning started. It takes some time.')\n",
        "model.fit(train_images, train_labels, batch_size=batch_size, epochs=training_epochs, verbose=1)\n",
        "\n",
        "print('Learning Finished!')\n",
        "\n",
        "# Test the model and check accuracy\n",
        "test_loss, test_acc = model.evaluate(test_images, test_labels)\n",
        "print('Test accuracy:', test_acc)\n",
        "\n",
        "# Get one and predict\n",
        "import numpy as np\n",
        "r = np.random.randint(0, len(test_images))\n",
        "sample_image = test_images[r].reshape(1, 28, 28, 1)\n",
        "prediction = model.predict(sample_image)\n",
        "print(\"Label:\", np.argmax(test_labels[r]))\n",
        "print(\"Prediction:\", np.argmax(prediction))\n"
      ],
      "metadata": {
        "colab": {
          "base_uri": "https://localhost:8080/"
        },
        "id": "-992t5-IckXp",
        "outputId": "5b3d4ee2-758b-42f3-de0f-d80c2568f966"
      },
      "execution_count": null,
      "outputs": [
        {
          "output_type": "stream",
          "name": "stdout",
          "text": [
            "Learning started. It takes some time.\n",
            "Epoch 1/15\n",
            "600/600 [==============================] - 35s 56ms/step - loss: 0.1770 - accuracy: 0.9460\n",
            "Epoch 2/15\n",
            "600/600 [==============================] - 30s 51ms/step - loss: 0.0549 - accuracy: 0.9832\n",
            "Epoch 3/15\n",
            "600/600 [==============================] - 31s 52ms/step - loss: 0.0412 - accuracy: 0.9876\n",
            "Epoch 4/15\n",
            "600/600 [==============================] - 31s 52ms/step - loss: 0.0316 - accuracy: 0.9900\n",
            "Epoch 5/15\n",
            "600/600 [==============================] - 38s 64ms/step - loss: 0.0263 - accuracy: 0.9916\n",
            "Epoch 6/15\n",
            "600/600 [==============================] - 31s 52ms/step - loss: 0.0216 - accuracy: 0.9933\n",
            "Epoch 7/15\n",
            "600/600 [==============================] - 30s 51ms/step - loss: 0.0178 - accuracy: 0.9942\n",
            "Epoch 8/15\n",
            "600/600 [==============================] - 31s 52ms/step - loss: 0.0166 - accuracy: 0.9946\n",
            "Epoch 9/15\n",
            "600/600 [==============================] - 30s 51ms/step - loss: 0.0145 - accuracy: 0.9952\n",
            "Epoch 10/15\n",
            "600/600 [==============================] - 37s 62ms/step - loss: 0.0108 - accuracy: 0.9964\n",
            "Epoch 11/15\n",
            "600/600 [==============================] - 31s 52ms/step - loss: 0.0105 - accuracy: 0.9964\n",
            "Epoch 12/15\n",
            "600/600 [==============================] - 33s 55ms/step - loss: 0.0092 - accuracy: 0.9966\n",
            "Epoch 13/15\n",
            "600/600 [==============================] - 34s 56ms/step - loss: 0.0087 - accuracy: 0.9971\n",
            "Epoch 14/15\n",
            "600/600 [==============================] - 31s 51ms/step - loss: 0.0079 - accuracy: 0.9974\n",
            "Epoch 15/15\n",
            "600/600 [==============================] - 30s 51ms/step - loss: 0.0075 - accuracy: 0.9971\n",
            "Learning Finished!\n",
            "313/313 [==============================] - 2s 6ms/step - loss: 0.0280 - accuracy: 0.9931\n",
            "Test accuracy: 0.9930999875068665\n",
            "1/1 [==============================] - 0s 80ms/step\n",
            "Label: 3\n",
            "Prediction: 3\n"
          ]
        }
      ]
    },
    {
      "cell_type": "markdown",
      "source": [
        "Deep CNN이 기존 CNN 보다 좋은 점 : 정확도가 상승함\n",
        "\n",
        "98.9% => 99.3%"
      ],
      "metadata": {
        "id": "lI8uAjlPfTRK"
      }
    }
  ]
}